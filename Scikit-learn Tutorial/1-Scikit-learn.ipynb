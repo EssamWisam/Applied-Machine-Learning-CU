{
 "cells": [
  {
   "cell_type": "markdown",
   "metadata": {},
   "source": [
    "\n",
    "<img src=\"https://upload.wikimedia.org/wikipedia/commons/thumb/0/05/Scikit_learn_logo_small.svg/1280px-Scikit_learn_logo_small.svg.png\" width=400/>"
   ]
  },
  {
   "cell_type": "markdown",
   "metadata": {},
   "source": [
    "1. Largest **classical machine learning** library in Python\n",
    "    - Deep learning and reinforcement learning are out of scope\n",
    "    \n",
    "2. Started as a Google Summer of Code Project\n",
    "\n",
    "3. Implements a wide range of **machine learning models** and **other elements** in the machine learning pipeline (e.g., feature selection, hyperparameter tuning, validation, metrics, etc.)"
   ]
  },
  {
   "cell_type": "markdown",
   "metadata": {},
   "source": [
    "The following shows the supervised machine learning pipeline:\n",
    "\n",
    "- Pandas and other libraries handles most data related operations\n",
    "\n",
    "- Scikit-learn handles the machine learning related operations\n",
    "\n",
    "- MLOps libraries handle deployment and feedback\n",
    "<br><br>\n",
    "![](https://i.imgur.com/jJK3PpD.png)"
   ]
  },
  {
   "cell_type": "markdown",
   "metadata": {},
   "source": [
    "#### Recap: Model Evaluation"
   ]
  },
  {
   "cell_type": "markdown",
   "metadata": {},
   "source": [
    "Any classifier corresponds to a decision boundary after training. There are three cases for such decision boundary:"
   ]
  },
  {
   "cell_type": "markdown",
   "metadata": {},
   "source": [
    "![](https://media.springernature.com/lw685/springer-static/image/chp%3A10.1007%2F978-3-030-89010-0_4/MediaObjects/484261_1_En_4_Fig1_HTML.png)"
   ]
  },
  {
   "cell_type": "markdown",
   "metadata": {},
   "source": [
    "We never rely on the training data to compare models or hyperparameters due to the risk of overfitting (it's not a true random sample of the data). After comparing and choosing the models to arrive at the best one, the reported score or metric must be on a new test set as well; there is a small chance that the validation set gave preference to a specific model or hyperparameters due to its inherent structure (extra safety)."
   ]
  },
  {
   "cell_type": "markdown",
   "metadata": {},
   "source": [
    "## ✨ Scikit-Learn Package"
   ]
  },
  {
   "cell_type": "markdown",
   "metadata": {},
   "source": [
    "![](https://i.imgur.com/o6i5Cbu.png)"
   ]
  },
  {
   "cell_type": "markdown",
   "metadata": {},
   "source": [
    "## ⭐ Scikit-Learn Model Basics"
   ]
  },
  {
   "cell_type": "markdown",
   "metadata": {},
   "source": [
    "#### Today we consider supervised, semi-supervised and unsupervised learning with Scikit-learn"
   ]
  },
  {
   "cell_type": "markdown",
   "metadata": {},
   "source": [
    "All models (or estimators) inherit from `sklearn.base.BaseEstimator`<br /><br />"
   ]
  },
  {
   "cell_type": "markdown",
   "metadata": {},
   "source": [
    "### 1️) Instantiate the Model using `Model(..)`\n",
    "To instantiate an arbitrary model `CMPModel` which lives in `sklearn.CMP`, use:\n",
    "```python\n",
    "from sklearn.CMP import CMPModel\n",
    "\n",
    "cmp_model = CMPModel(α=0.8, β=1.1)         \n",
    "```\n",
    "Here `α` and `β` are hyperparameters that define characteristics of the model (e.g., K in K-Nearest Neighbors or K-Means). A model can have any number of hyperparameters and each of them will be meaningful in some way.\n",
    "<br /><br /><br />"
   ]
  },
  {
   "cell_type": "markdown",
   "metadata": {},
   "source": [
    "### 2) Fit the Model on the Training Data using `model.fit(..)`\n",
    "\n",
    "Given a training set with `m` rows and `n` features:\n",
    "\n",
    "- `x_train` should generally be a numpy array of dimensions `(m,n)` (or scipy sparse matrix)\n",
    "\n",
    "- `y_train` a numpy array of dimensions `(m,)` (or also `(m,k)` in some cases such as multi-target regression or classification\n",
    "    - For classification, y is usually expected to have an integer or string datatype\n",
    "\n",
    "```python\n",
    "cmp_model.fit(x_train, y_train)\n",
    "```\n",
    "\n",
    "*This trains the models and sets its unknown parameters were needed to perform inference.* This step can take too long depending on the dataset!\n",
    "<br /><br />"
   ]
  },
  {
   "cell_type": "markdown",
   "metadata": {},
   "source": [
    "### 3) Predict on New Data using `model.predict(..)` \n",
    "Given a validation or test set with `m'` rows and `n` features:\n",
    "\n",
    "- `x_val` should generally be a numpy array of dimensions `(m,n)` (or scipy sparse matrix)\n",
    "\n",
    "```python\n",
    "y_pred = cmp_model.predict(x_val)\n",
    "```\n",
    "Result will be a numpy array of dimensions `(m,)` or also `(m,k)` in some cases as we mentioned. <br>\n",
    "\n",
    "Sometimes, we are interested in the probability or score that cause a certain classification for this we instead use `predict_proba(..)` or `decision_function(..)`\n",
    "```python\n",
    "y_pred_prob = predictor.predict_proba(x_val)\n",
    "```\n",
    "Return would be of shape like `(m,q)` where `q` is the number of probabilities or scores that have to be computed  to make a decision about a single point in `x_val`\n",
    "<br /><br />\n"
   ]
  },
  {
   "cell_type": "markdown",
   "metadata": {},
   "source": [
    "### 4) Evaluate the Model using `model.score(..)` or some_metric(...)\n",
    "Can be done by comparing `y_pred` with `y_val` under some defined metric \n",
    "```python\n",
    "from sklearn.metrics import some_metric\n",
    "metric_val = some_metric(y_val, y_pred)\n",
    "```\n",
    "\n",
    "Models also usually come with `model.score(x_val, y_val)` which returns some default metric (e.g., accuracy)\n",
    "```python\n",
    "metric_val = cmp_model.score(x_val, y_val)\n",
    "```\n",
    "<br /><br />"
   ]
  },
  {
   "cell_type": "markdown",
   "metadata": {},
   "source": [
    "### 5) Save and Load the Model using `dump(model,..)` and `load(..)`\n",
    "Now you can deploy it (only `predict` will be used in the deployment environment)\n",
    "```python\n",
    "from joblib import dump, load\n",
    "# save locally\n",
    "dump(cmp_model, 'cmp_model.joblib') \n",
    "# load\n",
    "cmp_model = load('cmp_model.joblib') \n",
    "```\n",
    "<br />"
   ]
  },
  {
   "cell_type": "markdown",
   "metadata": {},
   "source": [
    "<div align=\"center\">\n",
    "<img src=\"https://miro.medium.com/v2/resize:fit:616/0*WCaRN6ctmND048Xn.jpg\" width=500 />\n",
    "</div>"
   ]
  },
  {
   "cell_type": "markdown",
   "metadata": {},
   "source": [
    "### In summary,\n",
    "```python\n",
    "# assume you have split your dataset into training (x_train, y_train) and validation sets (x_val, y_val) all numpy arrays\n",
    "\n",
    "from sklearn.CMP import CMPModel\n",
    "from sklearn.metrics import some_metric\n",
    "from joblib import dump, load\n",
    "\n",
    "# 1. instantiate\n",
    "cmp_model = CMPModel(α=0.8, β=1.1)       \n",
    "# 2. train the model\n",
    "cmp_model.fit(x_train, y_train)\n",
    "# 3. predict\n",
    "y_pred = cmp_model.predict(x_val)\n",
    "# 4. score\n",
    "metric_val = some_metric(y_val, y_pred)\n",
    "```\n",
    "<br>\n",
    "Semi-supervised models are a niche special case we will consider later.\n",
    "<br>"
   ]
  },
  {
   "cell_type": "markdown",
   "metadata": {},
   "source": [
    "### For Unsupervised Models\n",
    "```python\n",
    "# assume you have a dataset (x_data, y_data) which are numpy arrays\n",
    "\n",
    "from sklearn.CMP import CMPModel\n",
    "from joblib import dump, load\n",
    "\n",
    "# 1. instantiate\n",
    "cmp_model = CMPModel(α=0.8, β=1.1)       \n",
    "# 2. train the model\n",
    "cmp_model.fit(x_data)                             # Notice y_data dropped!\n",
    "# 3. transform\n",
    "x_trans = cmp_model.transform(x_data)             # Applies the unsupervised transformation. There is (usually) no predict.\n",
    "# 4. score\n",
    "metric_val = cmp_model.score(x_data)             # Notice y_data dropped\n",
    "```\n",
    "<br>"
   ]
  },
  {
   "cell_type": "markdown",
   "metadata": {},
   "source": [
    "There is also `fit_transform(x_data)` which does both together. It exists because sometimes it's more efficient to do both `fit` and `transform` in the same function. There may also be `inverse_transform()` if it makes sense for the method to be revertible."
   ]
  },
  {
   "cell_type": "markdown",
   "metadata": {},
   "source": [
    "As we mentioned earlier no reinforcement learning and no (practical) deep learning on `Scikit-learn`"
   ]
  }
 ],
 "metadata": {
  "language_info": {
   "name": "python"
  }
 },
 "nbformat": 4,
 "nbformat_minor": 2
}
