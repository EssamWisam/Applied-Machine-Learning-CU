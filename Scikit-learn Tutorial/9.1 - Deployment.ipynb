{
 "cells": [
  {
   "cell_type": "markdown",
   "metadata": {},
   "source": [
    "## FastAPI for Deployment"
   ]
  },
  {
   "cell_type": "markdown",
   "metadata": {},
   "source": [
    "FastAPI is a [recent backend framework](https://fastapi.tiangolo.com/features/) that can help you deploy your model."
   ]
  },
  {
   "cell_type": "markdown",
   "metadata": {},
   "source": [
    "In `Deployment.py` we have:"
   ]
  },
  {
   "cell_type": "code",
   "execution_count": null,
   "metadata": {},
   "outputs": [],
   "source": [
    "from fastapi import FastAPI\n",
    "from typing import List\n",
    "from pydantic import BaseModel\n",
    "from pydantic import Field\n",
    "import joblib\n",
    "import numpy as np\n",
    "\n",
    "app = FastAPI()\n",
    "\n",
    "# Load the pre-trained model\n",
    "loaded_pipeline = joblib.load('pipeline.joblib')\n",
    "\n",
    "@app.get(\"/\")                    \n",
    "def read_items(): \n",
    "   return \"Welcome to the CMP-3.5 Model\"\n",
    "\n",
    "# Input Schema\n",
    "class Flower(BaseModel):\n",
    "    feats: List[float] = Field(..., example=\"[1.0, 2.0, 3.0, 4.0]\")\n",
    "\n",
    "# Output Schema\n",
    "class Prediction(BaseModel):\n",
    "    pred : str = Field(..., title=\"Flower Prediction\", example=\"Setosa\")\n",
    "\n",
    "\n",
    "@app.post(\"/predict_flower\", response_model=Prediction)         # POST to /predict_flower\n",
    "def predict_flower(featuresObj: Flower):\n",
    "    try:\n",
    "        # Convert input features to numpy array\n",
    "        x = np.array(featuresObj.feats)\n",
    "        x = x[np.newaxis, :]  # Reshape for prediction\n",
    "        pred = loaded_pipeline.predict(x)\n",
    "        return {\"pred\": pred[0]}\n",
    "    except Exception as e:\n",
    "        return {\"error\": str(e)}"
   ]
  },
  {
   "cell_type": "markdown",
   "metadata": {},
   "source": [
    "Run `uvicorn Deployment:app --reload` and let's test it below."
   ]
  },
  {
   "cell_type": "code",
   "execution_count": 1,
   "metadata": {},
   "outputs": [
    {
     "name": "stdout",
     "output_type": "stream",
     "text": [
      "{'pred': '0'}\n"
     ]
    }
   ],
   "source": [
    "from fastapi.testclient import TestClient\n",
    "from Deployment import app\n",
    "\n",
    "client = TestClient(app)\n",
    "\n",
    "def test_predict_flower():\n",
    "    # Test case 1: Valid input features\n",
    "    response = client.post(\"/predict_flower\", json={\"feats\": [5.1, 3.5, 1.4, 0.2]})\n",
    "    assert response.status_code == 200\n",
    "    assert \"pred\" in response.json()\n",
    "    print(response.json())\n",
    "    \n",
    "if __name__ == \"__main__\":\n",
    "    test_predict_flower()"
   ]
  },
  {
   "cell_type": "markdown",
   "metadata": {},
   "source": [
    "It's straightforward steps to then deploy `Deployment.py` on Azure, AWS, GCP, PythonAnywhere, etc."
   ]
  }
 ],
 "metadata": {
  "kernelspec": {
   "display_name": "Python 3",
   "language": "python",
   "name": "python3"
  },
  "language_info": {
   "codemirror_mode": {
    "name": "ipython",
    "version": 3
   },
   "file_extension": ".py",
   "mimetype": "text/x-python",
   "name": "python",
   "nbconvert_exporter": "python",
   "pygments_lexer": "ipython3",
   "version": "3.9.16"
  }
 },
 "nbformat": 4,
 "nbformat_minor": 2
}
