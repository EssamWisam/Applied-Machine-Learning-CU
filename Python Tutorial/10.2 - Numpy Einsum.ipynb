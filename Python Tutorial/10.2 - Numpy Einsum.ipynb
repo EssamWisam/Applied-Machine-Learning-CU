{
 "cells": [
  {
   "cell_type": "markdown",
   "metadata": {},
   "source": [
    "## EinSum"
   ]
  },
  {
   "cell_type": "markdown",
   "metadata": {},
   "source": [
    "We can describe matrix multiplication of two matrices $A_{m×n}$ and $B_{n×k}$ as follows in index form as follow $C_{m×k}$:\n",
    "\n",
    "$$C_{ik}=\\sum_{j=1}^{n}{A_{ij}×B_{jk}}$$\n",
    "\n",
    "Einstein would write sums in an equivalent simpler form:\n",
    "\n",
    "$$c_{ik}=a_{ij}b_{jk}$$\n",
    "\n",
    "Many other vector operations can be written in an index form wouldn't it be nice if we have a function that we provide the einstein notation and have it itself implement the compuation in parallel! This is what `np.einsum` is for\n",
    "```python\n",
    "C = np.einsum('ij,jk->ik', A, B)\n",
    "```"
   ]
  },
  {
   "cell_type": "markdown",
   "metadata": {},
   "source": [
    "#### Mathematical way to read this:\n",
    "- Write it index for similar to the first equation while summing over any index repeated across inputs only.\n",
    "<br><br>\n",
    "\n",
    "#### Programming way to read this:\n",
    "1. Dimensions of A and B are `2x2` and the result C will be `2x2` it will be of shape `(A.shape[0], B.shape[1])`\n",
    "2. A loop will be made for each free index and in the body of the loop a sum will be made over the free indices\n",
    "```python\n",
    "# From (1)\n",
    "C = np.zeros((A.shape[0], B.shape[1]))  \n",
    "# From (2)\n",
    "for i in range(A.shape[0]):  \n",
    "    for k in range(B.shape[1]):  \n",
    "        C[i, k] = sum([A[i, j] * B[j, k] for j in range A.shape[1]])\n",
    "```"
   ]
  },
  {
   "cell_type": "markdown",
   "metadata": {},
   "source": [
    "#### Why EinSum is Awesome\n"
   ]
  },
  {
   "cell_type": "markdown",
   "metadata": {},
   "source": [
    "- **Generic**: Can implement any vector operation by writing it index form! (more below)\n",
    "- **Fast**: Gets computed in parallel! (will use it in the lab to speed up KDE!)\n",
    "- **Novel**: Can invent new operations and used them for efficient implementations (e.g., deep learning)"
   ]
  },
  {
   "cell_type": "markdown",
   "metadata": {},
   "source": [
    "### 🧪 Examples"
   ]
  },
  {
   "cell_type": "code",
   "execution_count": 18,
   "metadata": {},
   "outputs": [],
   "source": [
    "import numpy as np"
   ]
  },
  {
   "cell_type": "markdown",
   "metadata": {},
   "source": [
    "#### Dot Product"
   ]
  },
  {
   "cell_type": "code",
   "execution_count": 19,
   "metadata": {},
   "outputs": [
    {
     "name": "stdout",
     "output_type": "stream",
     "text": [
      "32\n"
     ]
    }
   ],
   "source": [
    "# Create two vectors\n",
    "A = np.array([1, 2, 3])\n",
    "B = np.array([4, 5, 6])\n",
    "\n",
    "dot_product = np.einsum('i,i->', A, B)          #aibi => Σaibi\n",
    "print(dot_product)  "
   ]
  },
  {
   "cell_type": "markdown",
   "metadata": {},
   "source": [
    "#### Outer Product"
   ]
  },
  {
   "cell_type": "code",
   "execution_count": 8,
   "metadata": {},
   "outputs": [
    {
     "name": "stdout",
     "output_type": "stream",
     "text": [
      "[[ 4  5  6]\n",
      " [ 8 10 12]\n",
      " [12 15 18]]\n"
     ]
    }
   ],
   "source": [
    "# Create two vectors\n",
    "a = np.array([1, 2, 3])\n",
    "b = np.array([4, 5, 6])\n",
    "\n",
    "# Calculate outer product using einsum\n",
    "outer_product = np.einsum('i,j->ij', a, b)      #for i in range A.shape[0] for j in range B.shape[0]: cij=ai*bj\n",
    "print(outer_product)"
   ]
  },
  {
   "cell_type": "markdown",
   "metadata": {},
   "source": [
    "#### Element-wise Multiplication"
   ]
  },
  {
   "cell_type": "code",
   "execution_count": 9,
   "metadata": {},
   "outputs": [
    {
     "name": "stdout",
     "output_type": "stream",
     "text": [
      "[[ 5 12]\n",
      " [21 32]]\n"
     ]
    }
   ],
   "source": [
    "# Create two arrays\n",
    "A = np.array([[1, 2],\n",
    "              [3, 4]])\n",
    "B = np.array([[5, 6],\n",
    "              [7, 8]])\n",
    "\n",
    "# Calculate element-wise multiplication using einsum\n",
    "element_wise_product = np.einsum('ij,ij->ij', A, B)     #for i in range A.shape[0] for j in range B.shape[0]: cij=ai*bj\n",
    "print(element_wise_product)"
   ]
  },
  {
   "cell_type": "markdown",
   "metadata": {},
   "source": [
    "#### Matrix Multiplication"
   ]
  },
  {
   "cell_type": "code",
   "execution_count": 10,
   "metadata": {},
   "outputs": [
    {
     "name": "stdout",
     "output_type": "stream",
     "text": [
      "[[19 22]\n",
      " [43 50]]\n"
     ]
    }
   ],
   "source": [
    "import numpy as np\n",
    "\n",
    "# Create two matrices\n",
    "A = np.array([[1, 2],\n",
    "              [3, 4]])\n",
    "B = np.array([[5, 6],\n",
    "              [7, 8]])\n",
    "\n",
    "# Calculate matrix multiplication using einsum\n",
    "matrix_product = np.einsum('ij,jk->ik', A, B)\n",
    "print(matrix_product)"
   ]
  },
  {
   "cell_type": "markdown",
   "metadata": {},
   "source": [
    "#### Batch Matrix Multiplication"
   ]
  },
  {
   "cell_type": "code",
   "execution_count": 15,
   "metadata": {},
   "outputs": [],
   "source": [
    "# Create batch of matrices\n",
    "batch_A = np.random.rand(3, 2, 2)  #  3x2x2 \n",
    "batch_B = np.random.rand(3, 2, 2)  #  3x2x2\n",
    "\n",
    "# Calculate batch matrix multiplication using einsum\n",
    "batch_matrix_product = np.einsum('aij,ajk->aik', batch_A, batch_B)     \n",
    "\n",
    "\n",
    "assert np.allclose(batch_matrix_product, np.array([batch_A[i] @ batch_B[i] for i in range(3)]))"
   ]
  },
  {
   "cell_type": "markdown",
   "metadata": {},
   "source": [
    "#### Matrix Sum"
   ]
  },
  {
   "cell_type": "code",
   "execution_count": 20,
   "metadata": {},
   "outputs": [
    {
     "name": "stdout",
     "output_type": "stream",
     "text": [
      "10\n"
     ]
    }
   ],
   "source": [
    "A = np.array([[1, 2],\n",
    "              [3, 4]])\n",
    "\n",
    "# Calculate the sum of all elements using einsum\n",
    "matrix_sum = np.einsum('ij->', A)       # Σi,j aij\n",
    "print(matrix_sum)  # Output: 10"
   ]
  },
  {
   "cell_type": "markdown",
   "metadata": {},
   "source": [
    "### Trace"
   ]
  },
  {
   "cell_type": "code",
   "execution_count": 21,
   "metadata": {},
   "outputs": [
    {
     "name": "stdout",
     "output_type": "stream",
     "text": [
      "5\n"
     ]
    }
   ],
   "source": [
    "A = np.array([[1, 2],\n",
    "              [3, 4]])\n",
    "\n",
    "# Calculate trace using einsum\n",
    "trace_A = np.einsum('ii->', A)  # Σ_i a_ii\n",
    "print(trace_A)  "
   ]
  }
 ],
 "metadata": {
  "kernelspec": {
   "display_name": "Python 3",
   "language": "python",
   "name": "python3"
  },
  "language_info": {
   "codemirror_mode": {
    "name": "ipython",
    "version": 3
   },
   "file_extension": ".py",
   "mimetype": "text/x-python",
   "name": "python",
   "nbconvert_exporter": "python",
   "pygments_lexer": "ipython3",
   "version": "3.12.2"
  }
 },
 "nbformat": 4,
 "nbformat_minor": 2
}
