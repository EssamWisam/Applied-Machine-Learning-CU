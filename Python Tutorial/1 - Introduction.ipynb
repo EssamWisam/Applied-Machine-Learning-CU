{
 "cells": [
  {
   "cell_type": "markdown",
   "metadata": {},
   "source": [
    "# 🚀 Introduction"
   ]
  },
  {
   "cell_type": "markdown",
   "metadata": {},
   "source": [
    "<div align=\"center\"><img src=\"https://www.python.org/static/img/python-logo@2x.png\" alt=\"drawing\" width=\"600\"/></div>\n"
   ]
  },
  {
   "cell_type": "markdown",
   "metadata": {},
   "source": [
    "### ❓ What is Python?"
   ]
  },
  {
   "cell_type": "markdown",
   "metadata": {},
   "source": [
    "- Python is the most popular high-level programming language to our time. \n",
    "    - It's a general purpose language like C++ (and unlike Matlab)\n",
    "\n",
    "<div align=\"center\">\n",
    "<img src=\"https://i.imgur.com/uBYzbxu.png\" width=1200/>\n",
    "</div>\n",
    "\n",
    "- It is popular because \"it's easy to get stuff done.\"\n",
    "    - This allowed it to have a wide range of applications extending from web development to machine learning, with a special advantage in scripting and demoing. \n",
    "    -  Probably the largest open-source ecosystem\n",
    "\n",
    "#### 💁 More Facts\n",
    "- First interpreter was written in C\n",
    "\n",
    "- Like C++, Python is an object-oriented language (that supports the procedural paradigm as well)\n",
    "    - Unlike C++, it's garbage-collected\n",
    "- Unlike C++ and many languages, Python is an **interpreted language** and not a compiled one. This means that its executed by translating to machine code line by line. \n",
    "    - 🎉 If a line contains error(s), execution will stop at this line.\n",
    "    - 🎉 Easier to do experiments with an interpreted language (REPL)!\n",
    "    - 😐 Hard to do code optimization\n",
    "    - 😐 Each run translates the code again even if its no longer being changed\n",
    "- Like C++, Python is strongly typed (i.e., has strict rules for implict type conversion)\n",
    "- Unlike C++, Python is dynamically typed (i.e., types can change in runtime) and not statically-typed\n",
    "\n",
    "#### 📝 Final Notes\n",
    "- Usually what people do in large companies is simply quick demos (prototyping) using python until they are satisfied with the results, then implement in other languages for better performance or system requirements. \n",
    "- Python skills is a necessity for all students in computer science and engineering. Regardless the field you will work in, you will probably use Python."
   ]
  },
  {
   "cell_type": "markdown",
   "metadata": {},
   "source": [
    "<div align=\"center\">\n",
    "    <img src=\"https://i.imgur.com/z3NMIQN.png\" width=500>\n",
    "</div>"
   ]
  },
  {
   "cell_type": "markdown",
   "metadata": {},
   "source": [
    "## 📖 Notebooks"
   ]
  },
  {
   "cell_type": "markdown",
   "metadata": {},
   "source": [
    "- This is a Python notebook which is composed of a sequence of cells\n",
    "    - Each cell might be a markdown cell (formatted text) or a code cell\n",
    "    - `CTRL+Enter` to run a code cell\n",
    "    - Can use variables or functions defined in earlier code cells\n",
    "    - Possible because Python is interpreted!"
   ]
  },
  {
   "cell_type": "code",
   "execution_count": 24,
   "metadata": {},
   "outputs": [
    {
     "data": {
      "text/plain": [
       "'\\nNo official way to write multiline comments but \\nmultiline strings are supported\\n'"
      ]
     },
     "execution_count": 24,
     "metadata": {},
     "output_type": "execute_result"
    }
   ],
   "source": [
    "# this is an example code block and this is a comment in Python\n",
    "\"\"\"\n",
    "No official way to write multiline comments but \n",
    "multiline strings are supported\n",
    "\"\"\""
   ]
  },
  {
   "cell_type": "markdown",
   "metadata": {},
   "source": [
    "## 🔡 Variables"
   ]
  },
  {
   "cell_type": "markdown",
   "metadata": {},
   "source": [
    "- Python has no command for declaring a variable\n",
    "    - I.e., `float y;` or `var y;` has no equivalent in Python\n",
    "    - Just assign it directly! (purpose of declaring is assignment later anyway!)\n",
    "    - 😐 Implies that constants do not exist (common agreement: use capital letters)\n",
    "- The Python standard prefers snake_case names (and not camelCase like C++)"
   ]
  },
  {
   "cell_type": "code",
   "execution_count": 1,
   "metadata": {},
   "outputs": [],
   "source": [
    "age = 23                                        ## Compare with int age = 23;\n",
    "prime_nums = [2, 3, 5, 7]                       ## Compare with:  int primes[4] = {2, 3, 5, 7}; (four diffs)\n",
    "PI = 3.1415926                                  ## Compare with:  const double PI = 3.1415926;\n",
    "x, y, z = 1, 2, 9                               ## Compare with:  int x = 1, y = 2;"
   ]
  },
  {
   "cell_type": "code",
   "execution_count": 1,
   "metadata": {},
   "outputs": [],
   "source": [
    "# No semicolons unless chaining arbitrary statements in one line\n",
    "a = 4; b = 5; c = a"
   ]
  },
  {
   "cell_type": "markdown",
   "metadata": {},
   "source": [
    "Will consider data types soon"
   ]
  },
  {
   "cell_type": "markdown",
   "metadata": {},
   "source": [
    "## 🖨️ Input/Output"
   ]
  },
  {
   "cell_type": "markdown",
   "metadata": {},
   "source": [
    "In order to output any data to screen, you only need to use the function \"print()\".\n",
    "The function allows you to control the output format in a very flexible way. "
   ]
  },
  {
   "cell_type": "markdown",
   "metadata": {},
   "source": [
    "`print(object(s), sep=separator, end=end, file=file, flush=flush)`"
   ]
  },
  {
   "cell_type": "markdown",
   "metadata": {},
   "source": [
    "| Parameter | Description                                                |\n",
    "|-----------|------------------------------------------------------------|\n",
    "| object(s) | Any number of objects. Will be converted to string before printed |\n",
    "| sep='separator' | **Optional**. Specify how to separate the objects, if there is more than one. (Default is space) |\n",
    "| end='end' | **Optional**. Specify what to print at the end. (Default is '\\n') |\n",
    "| file | **Optional**. An object with a write method. Default is sys.stdout |\n",
    "| flush | **Optional**. If true cause the output to be displayed immediately, even if the output buffer is not full (Default is False). |\n"
   ]
  },
  {
   "cell_type": "markdown",
   "metadata": {},
   "source": [
    "#### Basic"
   ]
  },
  {
   "cell_type": "code",
   "execution_count": 2,
   "metadata": {},
   "outputs": [
    {
     "name": "stdout",
     "output_type": "stream",
     "text": [
      "Python is easy to learn!\n"
     ]
    }
   ],
   "source": [
    "## You can pass the output string directly\n",
    "print(\"Python is easy to learn!\") "
   ]
  },
  {
   "cell_type": "markdown",
   "metadata": {},
   "source": [
    "#### Multilpe Objects"
   ]
  },
  {
   "cell_type": "code",
   "execution_count": 4,
   "metadata": {},
   "outputs": [
    {
     "name": "stdout",
     "output_type": "stream",
     "text": [
      "Hi! I am 23 Years old\n",
      "Hi! I am 23 Years old\n",
      "Prime numbers less than 10 are:  [2, 3, 5, 7]\n"
     ]
    }
   ],
   "source": [
    "## You can ouput objects other than strings\n",
    "print(\"Hi! I am\", 23, \"Years old\")\n",
    "\n",
    "# Can also use multiple objects via `f-strings` (can be neater):\n",
    "print(f\"Hi! I am {age} Years old\")\n",
    "\n",
    "## Printing is even defined for non-primitive types!\n",
    "print(\"Prime numbers less than 10 are: \", prime_nums)"
   ]
  },
  {
   "cell_type": "markdown",
   "metadata": {},
   "source": [
    "#### `sep` and `end` keyword"
   ]
  },
  {
   "cell_type": "code",
   "execution_count": 5,
   "metadata": {},
   "outputs": [
    {
     "name": "stdout",
     "output_type": "stream",
     "text": [
      "I can count from 1#10\n",
      "I can count from 1->10\n",
      "--------------------------------------------"
     ]
    }
   ],
   "source": [
    "## a special parameter to the 'print' function is called \"sep\" which is used to separate the objects to be printed\n",
    "## see how we use arrows ->\n",
    "print(\"I can count from 1\", \"10\", sep='#')     ### Notice that Python supports named parameters! (unlike C++)\n",
    "print(\"I can count from 1\", \"10\", sep='->', end=\"\\n--------------------------------------------\")"
   ]
  },
  {
   "cell_type": "markdown",
   "metadata": {},
   "source": [
    "#### Input with `input(prompt)`"
   ]
  },
  {
   "cell_type": "markdown",
   "metadata": {},
   "source": [
    "Taking inputs in python is as easy as presenting output: All you need to use is the function \"input()\""
   ]
  },
  {
   "cell_type": "code",
   "execution_count": 6,
   "metadata": {},
   "outputs": [
    {
     "name": "stdout",
     "output_type": "stream",
     "text": [
      "You are 66 years old!\n"
     ]
    }
   ],
   "source": [
    "## the funtion input() takes as a parameter a string: this is the message that prompts the user to give an input\n",
    "age = input(\"Hi! How old are you?\")\n",
    "print(\"You are\", age, \"years old!\")"
   ]
  },
  {
   "cell_type": "markdown",
   "metadata": {},
   "source": [
    "**IMPORTANT NOTE** the input function always returns values as **STRINGS**, you will see later how to cast these to other types "
   ]
  }
 ],
 "metadata": {
  "kernelspec": {
   "display_name": "Python 3",
   "language": "python",
   "name": "python3"
  },
  "language_info": {
   "codemirror_mode": {
    "name": "ipython",
    "version": 3
   },
   "file_extension": ".py",
   "mimetype": "text/x-python",
   "name": "python",
   "nbconvert_exporter": "python",
   "pygments_lexer": "ipython3",
   "version": "3.9.16"
  }
 },
 "nbformat": 4,
 "nbformat_minor": 2
}
