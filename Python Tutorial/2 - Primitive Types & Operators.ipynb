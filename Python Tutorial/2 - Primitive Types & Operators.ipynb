{
 "cells": [
  {
   "cell_type": "markdown",
   "metadata": {},
   "source": [
    "## 🧑‍🌾 Primitive Types\n",
    "Python contains the following primitive types (set of basic data types from which all other data types are constructed):\n",
    "\n",
    "| Type           | Description                   |\n",
    "|----------------|-------------------------------|\n",
    "| Numeric Types  | `int`, `float`, `complex`    |\n",
    "| Boolean Type   | `bool`                        |\n",
    "| Text Type      | `str`                         |\n",
    "| None Type      | `NoneType`                    |"
   ]
  },
  {
   "cell_type": "markdown",
   "metadata": {},
   "source": [
    "Use `type(var)` to print the type of `var` and use `isinstance(var, type)` to check the type quickly"
   ]
  },
  {
   "cell_type": "markdown",
   "metadata": {},
   "source": [
    "### *️⃣ Numeric Types"
   ]
  },
  {
   "cell_type": "code",
   "execution_count": 1,
   "metadata": {},
   "outputs": [
    {
     "name": "stdout",
     "output_type": "stream",
     "text": [
      "Age: 30 which has type <class 'int'>\n",
      "Pi: 3.14159 which has type <class 'float'>\n",
      "Complex number: (1+2j) which has type <class 'complex'>\n"
     ]
    }
   ],
   "source": [
    "# Integers\n",
    "age = 30\n",
    "print(f\"Age: {age} which has type {type(age)}\")\n",
    "\n",
    "# Floats\n",
    "pi = 3.14159\n",
    "print(f\"Pi: {pi} which has type {type(pi)}\")\n",
    "\n",
    "# Complex numbers\n",
    "z = 1 + 2j\n",
    "print(f\"Complex number: {z} which has type {type(z)}\")"
   ]
  },
  {
   "cell_type": "markdown",
   "metadata": {},
   "source": [
    "#### Numeric Type Operators"
   ]
  },
  {
   "cell_type": "markdown",
   "metadata": {},
   "source": [
    "| Operator | Operation       | Example    |\n",
    "|----------|-----------------|------------|\n",
    "| +        | Addition        | x + y      |\n",
    "| -        | Subtraction     | x - y      |\n",
    "| *        | Multiplication  | x * y      |\n",
    "| /        | Division        | x / y      |\n",
    "| %        | Modulus         | x % y      |\n",
    "| **       | Exponentiation  | x ** y     |\n",
    "| //       | Floor division  | x // y     |\n"
   ]
  },
  {
   "cell_type": "code",
   "execution_count": 2,
   "metadata": {},
   "outputs": [
    {
     "name": "stdout",
     "output_type": "stream",
     "text": [
      "Addition: 8\n",
      "Subtraction: 2\n",
      "Multiplication: 15\n",
      "Division: 1.6666666666666667\n",
      "Floor division: 1\n",
      "Modulus: 2\n",
      "Exponentiation: 125\n"
     ]
    }
   ],
   "source": [
    "# Addition\n",
    "x = 5\n",
    "y = 3\n",
    "result = x + y\n",
    "print(\"Addition:\", result)          # Output: Addition: 8\n",
    "# Subtraction\n",
    "result = x - y\n",
    "print(\"Subtraction:\", result)       # Output: Subtraction: 2\n",
    "# Multiplication\n",
    "result = x * y\n",
    "print(\"Multiplication:\", result)     # Output: Multiplication: 15\n",
    "# Division\n",
    "result = x / y              ### Unlike C++, yields float output even if inputs are integers!\n",
    "# Floor division    \n",
    "print(\"Division:\", result)          # Output: Division: 1.6666666666666667\n",
    "result = x // y             ### Unless you do floor division (but it rounds to -∞ and not 0)\n",
    "print(\"Floor division:\", result)    # Output: Floor division: 1\n",
    "# Modulus\n",
    "result = x % y\n",
    "print(\"Modulus:\", result)           # Output: Modulus: 2\n",
    "# Exponentiation\n",
    "result = x ** y            ### Doesn't exist in bare C++\n",
    "print(\"Exponentiation:\", result)     # Output: Exponentiation: 125"
   ]
  },
  {
   "cell_type": "markdown",
   "metadata": {},
   "source": [
    "| Operator | Operation       | Example    |\n",
    "|----------|-----------------|------------|\n",
    "| &        | Bitwise AND     | x & y      |\n",
    "| \\|       | Bitwise OR      | x \\| y     |\n",
    "| ^        | Bitwise XOR     | x ^ y      |\n",
    "| ~        | Bitwise NOT     | ~x         |\n",
    "| <<       | Left shift      | x << y     |\n",
    "| >>       | Right shift     | x >> y     |\n",
    "\n",
    "Pretty much consistent with C++. Operates on the binary representation of the number."
   ]
  },
  {
   "cell_type": "code",
   "execution_count": 3,
   "metadata": {},
   "outputs": [
    {
     "name": "stdout",
     "output_type": "stream",
     "text": [
      "1\n"
     ]
    }
   ],
   "source": [
    "x = 5\n",
    "y = 3\n",
    "\n",
    "result_and = x & y\n",
    "print(result_and)"
   ]
  },
  {
   "cell_type": "markdown",
   "metadata": {},
   "source": [
    "All of the 12 binary operators we showed have self-assignment counterparts:"
   ]
  },
  {
   "cell_type": "code",
   "execution_count": 10,
   "metadata": {},
   "outputs": [
    {
     "name": "stdout",
     "output_type": "stream",
     "text": [
      "1\n"
     ]
    }
   ],
   "source": [
    "x = 5\n",
    "x += 1      # same as x = x + 1 ## No x++\n",
    "x //= 3     # floor division\n",
    "print(x)"
   ]
  },
  {
   "cell_type": "markdown",
   "metadata": {},
   "source": [
    "### ✅ Boolean Type"
   ]
  },
  {
   "cell_type": "markdown",
   "metadata": {},
   "source": [
    "Instead of `true` and `false` we have `True` and `False`."
   ]
  },
  {
   "cell_type": "code",
   "execution_count": 8,
   "metadata": {},
   "outputs": [
    {
     "name": "stdout",
     "output_type": "stream",
     "text": [
      "Being adult is True and being child is False\n",
      "True\n",
      "True\n"
     ]
    }
   ],
   "source": [
    "is_adult = True\n",
    "is_child = False\n",
    "print(f\"Being adult is {is_adult} and being child is {is_child}\")\n",
    "print(type(is_adult) == bool)\n",
    "print(isinstance(is_adult, bool))       ### In what instance would this be preferred? Subclasses!"
   ]
  },
  {
   "cell_type": "markdown",
   "metadata": {},
   "source": [
    "![]()"
   ]
  },
  {
   "cell_type": "markdown",
   "metadata": {},
   "source": [
    "#### 1. Boolean Operators"
   ]
  },
  {
   "cell_type": "markdown",
   "metadata": {},
   "source": [
    "Python completely does away with `&&`, `||` and `!` and uses English instead"
   ]
  },
  {
   "cell_type": "code",
   "execution_count": 11,
   "metadata": {},
   "outputs": [
    {
     "name": "stdout",
     "output_type": "stream",
     "text": [
      "False\n",
      "True\n",
      "False\n"
     ]
    }
   ],
   "source": [
    "C1 = True\n",
    "C2 = False\n",
    "print(C1 and C2)        ## Logic AND of condition 1 and condition 2\n",
    "print(C1 or C2)         ## Logic OR of condition 1 and condition 2\n",
    "print(not C1)           ## Logic NOT of condition 1"
   ]
  },
  {
   "cell_type": "markdown",
   "metadata": {},
   "source": [
    "#### 2. Relational Operators"
   ]
  },
  {
   "cell_type": "markdown",
   "metadata": {},
   "source": [
    "These compare variables to return a boolean. Consistent with C++"
   ]
  },
  {
   "cell_type": "code",
   "execution_count": 4,
   "metadata": {},
   "outputs": [
    {
     "name": "stdout",
     "output_type": "stream",
     "text": [
      "False\n",
      "False\n",
      "True\n",
      "True\n",
      "False\n",
      "True\n"
     ]
    }
   ],
   "source": [
    "print(5 > 7)        ## Checks if 5 greater than 7\n",
    "print(5 >= 7)       ## Checks if 5 greater than or equal to 7\n",
    "\n",
    "print(5 < 7)        ## Checks if 5 less than 7\n",
    "print(5 <= 7)       ## Checks if 5 less than or equal 7\n",
    "\n",
    "print(5 == 7)       ## Checks if 5 equal to 7\n",
    "print(5 != 7)       ## Checks if 5 not equal to 7"
   ]
  },
  {
   "cell_type": "markdown",
   "metadata": {},
   "source": [
    "Except that python also allows chaining like so:"
   ]
  },
  {
   "cell_type": "code",
   "execution_count": 13,
   "metadata": {},
   "outputs": [
    {
     "name": "stdout",
     "output_type": "stream",
     "text": [
      "True\n"
     ]
    }
   ],
   "source": [
    "y = 5\n",
    "x = 6\n",
    "print(x-3 <= y <= x+3)"
   ]
  },
  {
   "cell_type": "markdown",
   "metadata": {},
   "source": [
    "#### 3. Identity and Membership Operators "
   ]
  },
  {
   "cell_type": "markdown",
   "metadata": {},
   "source": [
    "`is` and `is not` (soon)"
   ]
  },
  {
   "cell_type": "markdown",
   "metadata": {},
   "source": [
    "`in` and `not in` (soon)"
   ]
  },
  {
   "cell_type": "markdown",
   "metadata": {},
   "source": [
    "### 📝 Text Type"
   ]
  },
  {
   "cell_type": "code",
   "execution_count": 4,
   "metadata": {},
   "outputs": [
    {
     "name": "stdout",
     "output_type": "stream",
     "text": [
      "Greeting: Hello, Alice! which has type <class 'str'>\n"
     ]
    }
   ],
   "source": [
    "# Strings\n",
    "name = 'Alice'                      ### singl quotes are okay!\n",
    "greeting = f\"Hello, {name}!\"\n",
    "print(f\"Greeting: {greeting} which has type {type(greeting)}\")"
   ]
  },
  {
   "cell_type": "markdown",
   "metadata": {},
   "source": [
    "#### Basic String Operations"
   ]
  },
  {
   "cell_type": "markdown",
   "metadata": {},
   "source": [
    "| Operation           | Example                         | Description                                    |\n",
    "|---------------------|---------------------------------|------------------------------------------------|\n",
    "| Concatenation       | `s1 + s2`                       | Combines two strings into one.                |\n",
    "| Repetition          | `s * n`                         | Repeats the string `s` `n` times.           |\n",
    "| Case Conversion     | `s.lower()`, `s.upper()`        | Converts the case of characters in `s`.       |\n",
    "| Stripping           | `s.strip()`, `s.lstrip()`, `s.rstrip()` | Removes leading/trailing whitespace from `s`. |\n"
   ]
  },
  {
   "cell_type": "markdown",
   "metadata": {},
   "source": [
    "Array related operations (soon)"
   ]
  },
  {
   "cell_type": "code",
   "execution_count": 7,
   "metadata": {},
   "outputs": [
    {
     "name": "stdout",
     "output_type": "stream",
     "text": [
      "Hello World\n",
      "WORLD\n",
      "a   Hello    b\n"
     ]
    }
   ],
   "source": [
    "s1, s2 = \"Hello\", \"World\"\n",
    "\n",
    "# Concatenation\n",
    "result_concat = s1 + \" \" + s2  # \"Hello World\"\n",
    "print(result_concat)\n",
    "\n",
    "# Case Conversion\n",
    "lowercase_s1 = s1.lower()     # \"hello\"\n",
    "uppercase_s2 = s2.upper()     # \"WORLD\"\n",
    "print(uppercase_s2)\n",
    "\n",
    "# Stripping\n",
    "s3 = \"   a   Hello    b   \"\n",
    "stripped_s3 = s3.strip()      # \"Hello\"\n",
    "\n",
    "print(stripped_s3)"
   ]
  },
  {
   "cell_type": "markdown",
   "metadata": {},
   "source": [
    "Will see more operations once we cover lists."
   ]
  },
  {
   "cell_type": "markdown",
   "metadata": {},
   "source": [
    "### 🚫 None Type"
   ]
  },
  {
   "cell_type": "markdown",
   "metadata": {},
   "source": [
    "Can be used as an initial value to simulate declaration"
   ]
  },
  {
   "cell_type": "code",
   "execution_count": 8,
   "metadata": {},
   "outputs": [
    {
     "name": "stdout",
     "output_type": "stream",
     "text": [
      "Value of x: None\n"
     ]
    }
   ],
   "source": [
    "x = None\n",
    "print(\"Value of x:\", x)  # Output: Value of x: None"
   ]
  },
  {
   "cell_type": "code",
   "execution_count": 3,
   "metadata": {},
   "outputs": [
    {
     "name": "stdout",
     "output_type": "stream",
     "text": [
      "True\n",
      "True\n"
     ]
    }
   ],
   "source": [
    "# According to Python PEP standard\n",
    "print(x == None)            # not recommended (as == can be overloaded)\n",
    "print(x is None)            # recommended (more on this later)"
   ]
  },
  {
   "cell_type": "markdown",
   "metadata": {},
   "source": [
    "### 🔄 Type Casting"
   ]
  },
  {
   "cell_type": "markdown",
   "metadata": {},
   "source": [
    "Simply use logic and that type's constructor\n",
    "| Constructor | Description               |\n",
    "|-------------|---------------------------|\n",
    "| `int()`     | Constructs an integer     |\n",
    "| `float()`   | Constructs a float        |\n",
    "| `str()`     | Constructs a string       |\n",
    "| `bool()`    | Constructs a boolean      |\n"
   ]
  },
  {
   "cell_type": "code",
   "execution_count": 10,
   "metadata": {},
   "outputs": [
    {
     "name": "stdout",
     "output_type": "stream",
     "text": [
      "Integer to Float: 10 -> 10.0\n",
      "Float to Integer: 10.5 -> 10\n"
     ]
    }
   ],
   "source": [
    "# Converting integer to float\n",
    "integer_number = 10\n",
    "float_number = float(integer_number)\n",
    "print(\"Integer to Float:\", integer_number, \"->\", float_number)\n",
    "    \n",
    "# Converting float to integer\n",
    "float_number = 10.5\n",
    "integer_number = int(float_number)\n",
    "print(\"Float to Integer:\", float_number, \"->\", integer_number)"
   ]
  },
  {
   "cell_type": "code",
   "execution_count": 6,
   "metadata": {},
   "outputs": [
    {
     "name": "stdout",
     "output_type": "stream",
     "text": [
      "Integer to String: 123 -> 123\n",
      "String to Integer: 456 -> 456\n"
     ]
    }
   ],
   "source": [
    "# Converting integer to string\n",
    "integer_number = 123\n",
    "string_number = str(integer_number)\n",
    "print(\"Integer to String:\", integer_number, \"->\", string_number)\n",
    "\n",
    "# Converting string to integer\n",
    "string_number = \"456\"\n",
    "integer_number = int(string_number)\n",
    "print(\"String to Integer:\", string_number, \"->\", integer_number)"
   ]
  },
  {
   "cell_type": "code",
   "execution_count": 8,
   "metadata": {},
   "outputs": [
    {
     "name": "stdout",
     "output_type": "stream",
     "text": [
      "Boolean to Integer: True -> 1\n",
      "Integer to Boolean: 0 -> False\n"
     ]
    }
   ],
   "source": [
    "# Converting boolean to integer\n",
    "boolean_value = True\n",
    "integer_from_bool = int(boolean_value)\n",
    "print(\"Boolean to Integer:\", boolean_value, \"->\", integer_from_bool)\n",
    "\n",
    "# Converting integer to boolean\n",
    "integer_value = 0\n",
    "bool_from_int = bool(integer_value)\n",
    "print(\"Integer to Boolean:\", integer_value, \"->\", bool_from_int)"
   ]
  }
 ],
 "metadata": {
  "kernelspec": {
   "display_name": "Python 3",
   "language": "python",
   "name": "python3"
  },
  "language_info": {
   "codemirror_mode": {
    "name": "ipython",
    "version": 3
   },
   "file_extension": ".py",
   "mimetype": "text/x-python",
   "name": "python",
   "nbconvert_exporter": "python",
   "pygments_lexer": "ipython3",
   "version": "3.9.16"
  }
 },
 "nbformat": 4,
 "nbformat_minor": 2
}
