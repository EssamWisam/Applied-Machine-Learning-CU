{
 "cells": [
  {
   "cell_type": "markdown",
   "metadata": {},
   "source": [
    "#### Define a 2D Array"
   ]
  },
  {
   "cell_type": "code",
   "execution_count": 29,
   "metadata": {},
   "outputs": [],
   "source": [
    "import numpy as np\n",
    "\n",
    "matrix = np.array([ [1, 2, 6],\n",
    "                    [7, 5, 3],\n",
    "                    [4, 8, 9]])"
   ]
  },
  {
   "cell_type": "markdown",
   "metadata": {},
   "source": [
    "#### Along Axis 0,1"
   ]
  },
  {
   "cell_type": "code",
   "execution_count": 42,
   "metadata": {},
   "outputs": [
    {
     "data": {
      "text/plain": [
       "array([2, 0, 2])"
      ]
     },
     "execution_count": 42,
     "metadata": {},
     "output_type": "execute_result"
    }
   ],
   "source": [
    "sum_ = np.argmax(matrix, axis=1)     # mean(col1, col2, col3)\n",
    "sum_"
   ]
  },
  {
   "cell_type": "markdown",
   "metadata": {},
   "source": [
    "#### Higher Dimensions"
   ]
  },
  {
   "cell_type": "markdown",
   "metadata": {},
   "source": [
    "<img src=\"https://i.imgur.com/uVpQP3o.jpeg\" width=300>"
   ]
  },
  {
   "cell_type": "code",
   "execution_count": 21,
   "metadata": {},
   "outputs": [
    {
     "data": {
      "text/plain": [
       "array([[[[3, 4, 2, 4],\n",
       "         [4, 1, 2, 2]],\n",
       "\n",
       "        [[2, 4, 3, 2],\n",
       "         [4, 1, 3, 1]],\n",
       "\n",
       "        [[3, 4, 0, 3],\n",
       "         [1, 4, 3, 0]]],\n",
       "\n",
       "\n",
       "       [[[0, 2, 2, 1],\n",
       "         [3, 3, 2, 3]],\n",
       "\n",
       "        [[3, 0, 2, 4],\n",
       "         [2, 4, 0, 1]],\n",
       "\n",
       "        [[3, 0, 3, 1],\n",
       "         [1, 0, 1, 4]]]])"
      ]
     },
     "execution_count": 21,
     "metadata": {},
     "output_type": "execute_result"
    }
   ],
   "source": [
    "np.random.seed(42)\n",
    "array_4d = np.random.randint(0, 5, size=(2, 3, 2, 4))\n",
    "array_4d"
   ]
  },
  {
   "cell_type": "markdown",
   "metadata": {},
   "source": [
    "#### Along Axis 0"
   ]
  },
  {
   "cell_type": "code",
   "execution_count": 46,
   "metadata": {},
   "outputs": [
    {
     "data": {
      "text/plain": [
       "array([[[13,  9],\n",
       "        [11,  9],\n",
       "        [10,  8]],\n",
       "\n",
       "       [[ 5, 11],\n",
       "        [ 9,  7],\n",
       "        [ 7,  6]]])"
      ]
     },
     "execution_count": 46,
     "metadata": {},
     "output_type": "execute_result"
    }
   ],
   "source": [
    "sum_axis_0 = np.sum(array_4d, axis=3)\n",
    "sum_axis_0"
   ]
  },
  {
   "cell_type": "markdown",
   "metadata": {},
   "source": [
    "Interesting link with [visual numpy](https://jalammar.github.io/visual-numpy/)"
   ]
  }
 ],
 "metadata": {
  "kernelspec": {
   "display_name": "Python 3",
   "language": "python",
   "name": "python3"
  },
  "language_info": {
   "codemirror_mode": {
    "name": "ipython",
    "version": 3
   },
   "file_extension": ".py",
   "mimetype": "text/x-python",
   "name": "python",
   "nbconvert_exporter": "python",
   "pygments_lexer": "ipython3",
   "version": "3.12.2"
  }
 },
 "nbformat": 4,
 "nbformat_minor": 2
}
