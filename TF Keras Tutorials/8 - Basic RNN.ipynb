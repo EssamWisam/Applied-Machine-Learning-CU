{
 "cells": [
  {
   "cell_type": "code",
   "execution_count": 2,
   "metadata": {},
   "outputs": [],
   "source": [
    "import keras\n",
    "import numpy as np\n",
    "from keras.models import Sequential\n",
    "from keras.layers import SimpleRNN, Dense\n",
    "from tqdm.keras import TqdmCallback"
   ]
  },
  {
   "cell_type": "markdown",
   "metadata": {},
   "source": [
    "**TODO:** as an exercise for your ability to explore [documentation](https://keras.io/api/), read over Keras documentation for RNN layers and convert the RNN PyTorch example to Keras/TensorFlow. The following may help:"
   ]
  },
  {
   "cell_type": "code",
   "execution_count": 3,
   "metadata": {},
   "outputs": [
    {
     "data": {
      "application/vnd.jupyter.widget-view+json": {
       "model_id": "e6ba91d662ae4c65b023c372a60fdb7d",
       "version_major": 2,
       "version_minor": 0
      },
      "text/plain": [
       "0epoch [00:00, ?epoch/s]"
      ]
     },
     "metadata": {},
     "output_type": "display_data"
    },
    {
     "data": {
      "application/vnd.jupyter.widget-view+json": {
       "model_id": "a6deab8178f849ae82d975340c35e63a",
       "version_major": 2,
       "version_minor": 0
      },
      "text/plain": [
       "0batch [00:00, ?batch/s]"
      ]
     },
     "metadata": {},
     "output_type": "display_data"
    },
    {
     "data": {
      "text/plain": [
       "<keras.src.callbacks.history.History at 0x175fdedf0>"
      ]
     },
     "execution_count": 3,
     "metadata": {},
     "output_type": "execute_result"
    }
   ],
   "source": [
    "# Assume we have 1000 sequences, each of length 10, and each element has 320 features\n",
    "num_sequences = 1000\n",
    "sequence_length = 10\n",
    "num_features = 320               # e.g., vector for each token (else if want to learn them use keras.layers.Embedding)\n",
    "\n",
    "# Generate random sequences\n",
    "x_train = np.random.random((num_sequences, sequence_length, num_features))\n",
    "y_train = np.random.randint(2, size=(num_sequences, 1))  \n",
    "\n",
    "# Build the RNN model\n",
    "model = Sequential([\n",
    "    keras.Input(shape=(sequence_length, num_features)),\n",
    "    SimpleRNN(512),                      # Has 512 neurons; will give the final hidden state to the next layer\n",
    "    Dense(1, activation='sigmoid')\n",
    "])\n",
    "\n",
    "# Compile the model\n",
    "model.compile(optimizer='adam', loss='binary_crossentropy', metrics=['accuracy'])\n",
    "\n",
    "# Train the model\n",
    "model.fit(x_train, y_train, epochs=10, batch_size=32, callbacks=[TqdmCallback()], verbose=False)"
   ]
  },
  {
   "cell_type": "markdown",
   "metadata": {},
   "source": [
    "- You will have to use an embedding layer as we did\n",
    "- You will have to use Keras (or `tensorflow_text`) for padding, tokenization and etc. (don't write them by hand)"
   ]
  }
 ],
 "metadata": {
  "kernelspec": {
   "display_name": "Python 3",
   "language": "python",
   "name": "python3"
  },
  "language_info": {
   "codemirror_mode": {
    "name": "ipython",
    "version": 3
   },
   "file_extension": ".py",
   "mimetype": "text/x-python",
   "name": "python",
   "nbconvert_exporter": "python",
   "pygments_lexer": "ipython3",
   "version": "3.9.16"
  }
 },
 "nbformat": 4,
 "nbformat_minor": 2
}
