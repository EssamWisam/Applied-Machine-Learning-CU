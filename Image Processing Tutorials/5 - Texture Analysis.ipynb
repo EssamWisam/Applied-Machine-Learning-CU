{
 "cells": [
  {
   "cell_type": "markdown",
   "metadata": {},
   "source": [
    "## Texture Analysis"
   ]
  },
  {
   "cell_type": "markdown",
   "metadata": {},
   "source": [
    "- Corresponds to lecture 8"
   ]
  },
  {
   "cell_type": "markdown",
   "metadata": {},
   "source": [
    "- Texture is a repeating pattern of local variations in image intensity (colors)\n",
    "\n",
    "- Can represent one texture unit as a \"texel\" (e.g., like footprint) but for every day images, it's too idealistic\n",
    "\n",
    "- Thus, preferred analysis for texture is statistical rather than structural\n",
    "   - Extract statistical features that represent the texture\n",
    "   \n",
    "   - E.g., they can help distinguish between grass and sand"
   ]
  },
  {
   "cell_type": "markdown",
   "metadata": {},
   "source": [
    "<img width=400 src=\"https://cdn12.picryl.com/photo/2016/12/31/grass-background-texture-backgrounds-textures-44239a-1024.jpg\">"
   ]
  },
  {
   "cell_type": "markdown",
   "metadata": {},
   "source": [
    "#### 1. Energy Density and Directions"
   ]
  },
  {
   "cell_type": "markdown",
   "metadata": {},
   "source": [
    "- Decide a window size\n",
    "\n",
    "- For each overlap of the window with the image\n",
    "  - Compute the busyness (i.e., #edge_points/window_size)\n",
    "\n",
    "This gives one feature per window overlap in the image. Suppose we get histogram of gradient and directions at ten bins each then we have 21 featurs per window overlap in the image."
   ]
  },
  {
   "cell_type": "markdown",
   "metadata": {},
   "source": [
    "#### 2. Local Binary Pattern"
   ]
  },
  {
   "cell_type": "markdown",
   "metadata": {},
   "source": [
    "<img src=\"https://i.imgur.com/MqijNMV.png\" width=800>"
   ]
  },
  {
   "cell_type": "markdown",
   "metadata": {},
   "source": [
    "- Quite logical: if a local variation is repeated across pixels → the assigned code and thus number will similar."
   ]
  },
  {
   "cell_type": "code",
   "execution_count": 1,
   "metadata": {},
   "outputs": [
    {
     "name": "stdout",
     "output_type": "stream",
     "text": [
      "input shape is (892, 1080)\n",
      "(892, 1080)\n"
     ]
    }
   ],
   "source": [
    "import skimage as ski\n",
    "\n",
    "img = ski.io.imread(\"./CU.jpeg\")\n",
    "img = ski.color.rgb2gray(img)\n",
    "img = ski.util.img_as_ubyte(img)\n",
    "print(\"input shape is\", img.shape)\n",
    "\n",
    "lbp_img = ski.feature.local_binary_pattern(img, P=8, R=1)        # P is number of directions and R is distance\n",
    "print(lbp_img.shape)                                             # Now can get a histogram of the features"
   ]
  },
  {
   "cell_type": "markdown",
   "metadata": {},
   "source": [
    "#### 3. Co-occurence Features (GLCM)"
   ]
  },
  {
   "cell_type": "markdown",
   "metadata": {},
   "source": [
    "Recall:"
   ]
  },
  {
   "cell_type": "markdown",
   "metadata": {},
   "source": [
    "<img src=\"https://www.researchgate.net/publication/273731213/figure/fig5/AS:667915284148224@1536254821063/Gray-level-co-occurrence-matrix-calculation-example-For-interpretation-of-the.png\">"
   ]
  },
  {
   "cell_type": "code",
   "execution_count": 6,
   "metadata": {},
   "outputs": [
    {
     "data": {
      "text/plain": [
       "(256, 256, 2, 1)"
      ]
     },
     "execution_count": 6,
     "metadata": {},
     "output_type": "execute_result"
    }
   ],
   "source": [
    "π = 3.14\n",
    "comatrix = ski.feature.graycomatrix(img, distances=[1,2], angles=[0])\n",
    "comatrix.shape"
   ]
  },
  {
   "cell_type": "markdown",
   "metadata": {},
   "source": [
    "We can extract a handful of scalar features from it:\n",
    "\n",
    "<img src=\"https://i.imgur.com/g0sy35N.png\" width=700>"
   ]
  },
  {
   "cell_type": "code",
   "execution_count": 8,
   "metadata": {},
   "outputs": [
    {
     "name": "stdout",
     "output_type": "stream",
     "text": [
      "(2, 1)\n",
      "[363.81067734199866, 8.267099789292033, 0.4929955042913327, 0.039211665218441355, 0.9349152497202667]\n"
     ]
    }
   ],
   "source": [
    "contrast = ski.feature.graycoprops(comatrix, 'contrast'); print(contrast.shape)\n",
    "dissimilarity = ski.feature.graycoprops(comatrix, 'dissimilarity')\n",
    "homogeneity = ski.feature.graycoprops(comatrix, 'homogeneity')\n",
    "energy = ski.feature.graycoprops(comatrix, 'energy')\n",
    "correlation = ski.feature.graycoprops(comatrix, 'correlation')\n",
    "\n",
    "# Let's build our feature vector:\n",
    "feats = [contrast, dissimilarity, homogeneity, energy, correlation]\n",
    "feature_vec = [feat[0][0] for feat in feats]\n",
    "\n",
    "print(feature_vec)"
   ]
  },
  {
   "cell_type": "markdown",
   "metadata": {},
   "source": [
    "#### 4. Law's Texture Energy Measures"
   ]
  },
  {
   "cell_type": "markdown",
   "metadata": {},
   "source": [
    "<img src=\"https://i.imgur.com/9aH75dj.png\" width=800>"
   ]
  },
  {
   "cell_type": "markdown",
   "metadata": {},
   "source": [
    "- Multiplying all possible pairs of filters → 16 `5x5` filters\n",
    "\n",
    "- Average every two from the same pair → 16-6=10\n",
    "\n",
    "- Get rid of L5L5\n",
    "\n",
    "This results in 9 `5x5` filters. In other words, 9 features per pixel (can do histogram or use feature map in segmentation, etc.)."
   ]
  },
  {
   "cell_type": "markdown",
   "metadata": {},
   "source": [
    "<img src=\"https://i.imgur.com/Jt2vWfO.png\" width=500/>"
   ]
  },
  {
   "cell_type": "markdown",
   "metadata": {},
   "source": [
    "Not on Skimage, you can go ahead and add it."
   ]
  },
  {
   "cell_type": "markdown",
   "metadata": {},
   "source": [
    "<img src=\"https://i.imgur.com/m2JSp9P.png\">"
   ]
  }
 ],
 "metadata": {
  "kernelspec": {
   "display_name": "Python 3",
   "language": "python",
   "name": "python3"
  },
  "language_info": {
   "codemirror_mode": {
    "name": "ipython",
    "version": 3
   },
   "file_extension": ".py",
   "mimetype": "text/x-python",
   "name": "python",
   "nbconvert_exporter": "python",
   "pygments_lexer": "ipython3",
   "version": "3.9.16"
  }
 },
 "nbformat": 4,
 "nbformat_minor": 2
}
