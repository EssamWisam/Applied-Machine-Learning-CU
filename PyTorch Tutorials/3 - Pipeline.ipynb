{
 "cells": [
  {
   "cell_type": "markdown",
   "metadata": {},
   "source": [
    "## 🔮 Deep Learning in Practice\n"
   ]
  },
  {
   "cell_type": "markdown",
   "metadata": {},
   "source": [
    "**Reminder:** Machine Learning Pipeline\n"
   ]
  },
  {
   "cell_type": "markdown",
   "metadata": {},
   "source": [
    "<img src=\"https://i.imgur.com/ElA8Jrr.png\"/>\n"
   ]
  },
  {
   "cell_type": "markdown",
   "metadata": {},
   "source": [
    "**Now:** Deep Learning Pipeline\n"
   ]
  },
  {
   "cell_type": "markdown",
   "metadata": {},
   "source": [
    "<img src=\"https://i.imgur.com/wjTxjxS.png\">\n"
   ]
  },
  {
   "cell_type": "markdown",
   "metadata": {},
   "source": [
    "### 🤔 Main Differences:\n"
   ]
  },
  {
   "cell_type": "markdown",
   "metadata": {},
   "source": [
    "- Less packages cooperating together through different phases of the pipeline\n",
    "\n",
    "- Feature extraction generally not necessary in deep learning\n",
    "\n",
    "- Can learn much more complex functions and scale with much more data: much longer training times\n",
    "\n",
    "  - But: state-of-the-art performance for unstructured data due to target complexity\n",
    "\n",
    "- Often employ data transformations for better generalizations\n"
   ]
  },
  {
   "cell_type": "markdown",
   "metadata": {},
   "source": [
    "### Have Considered PyTorch\n"
   ]
  },
  {
   "cell_type": "markdown",
   "metadata": {},
   "source": [
    "Only as a tensor library (i.e., like Numpy) but which also offers GPU support and automatic differentiation\n"
   ]
  },
  {
   "cell_type": "markdown",
   "metadata": {},
   "source": [
    "<img src=\"https://i.imgur.com/FXSdMjM.png\" />\n"
   ]
  },
  {
   "cell_type": "markdown",
   "metadata": {},
   "source": [
    "<table>\n",
    "  <tr> <th>torch</th> <th>torch.nn</th> <th>torch.nn.functional</th> <th>torch.optim</th> <th>torch.utils</th> </tr>\n",
    "  <tr> \n",
    "  <td> Wraps all other modules and offers tensor functionality on GPU and automatic differentiation </td> \n",
    "  <td> Basic blocks of neural networks (i.e., layers, activations and loss functions) </td> \n",
    "  <td> Stateless functional version of (torch.nn) </td> \n",
    "  <td> Optimization algorithms and learning rate schedulers</td> \n",
    "  <td> reading data, batching, logging, etc. </td> </tr>\n",
    "</table>\n"
   ]
  },
  {
   "cell_type": "markdown",
   "metadata": {},
   "source": [
    "Aside from these modules, PyTorch also made other libraries such as `torchvision`, `torchtext` and `torchaudio`. These in general provide **transformations** specific to the data type (e.g., rotation for images, pitch shift for audio, tokenization for text) as well as built-in known datasets and models."
   ]
  },
  {
   "cell_type": "markdown",
   "metadata": {},
   "source": [
    "It's obvious we're done with the main module `torch` since last tutorial, let's explore the rest."
   ]
  }
 ],
 "metadata": {
  "kernelspec": {
   "display_name": "Python 3",
   "language": "python",
   "name": "python3"
  },
  "language_info": {
   "codemirror_mode": {
    "name": "ipython",
    "version": 3
   },
   "file_extension": ".py",
   "mimetype": "text/x-python",
   "name": "python",
   "nbconvert_exporter": "python",
   "pygments_lexer": "ipython3",
   "version": "3.9.16"
  }
 },
 "nbformat": 4,
 "nbformat_minor": 2
}
