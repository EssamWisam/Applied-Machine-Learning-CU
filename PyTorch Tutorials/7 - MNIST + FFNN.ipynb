{
 "cells": [
  {
   "cell_type": "markdown",
   "metadata": {},
   "source": [
    "## Feedforward Neural Networks - MNIST Dataset"
   ]
  },
  {
   "cell_type": "code",
   "execution_count": 1,
   "metadata": {},
   "outputs": [
    {
     "name": "stderr",
     "output_type": "stream",
     "text": [
      "/opt/anaconda3/envs/M1/lib/python3.9/site-packages/torchvision/io/image.py:13: UserWarning: Failed to load image Python extension: 'dlopen(/opt/anaconda3/envs/M1/lib/python3.9/site-packages/torchvision/image.so, 0x0006): Symbol not found: (__ZN3c1017RegisterOperatorsD1Ev)\n",
      "  Referenced from: '/opt/anaconda3/envs/M1/lib/python3.9/site-packages/torchvision/image.so'\n",
      "  Expected in: '/opt/anaconda3/envs/M1/lib/python3.9/site-packages/torch/lib/libtorch_cpu.dylib''If you don't plan on using image functionality from `torchvision.io`, you can ignore this warning. Otherwise, there might be something wrong with your environment. Did you have `libjpeg` or `libpng` installed before building `torchvision` from source?\n",
      "  warn(\n"
     ]
    }
   ],
   "source": [
    "from Plot import plot_image_grid\n",
    "import torchvision.transforms as transforms    \n",
    "import torchvision.datasets as datasets        \n",
    "from torch.utils.data import DataLoader         \n",
    "import torch\n",
    "import torch.nn as nn\n",
    "import matplotlib.pyplot as plt\n",
    "\n",
    "device = torch.device('cuda' if torch.cuda.is_available() else 'cpu')"
   ]
  },
  {
   "cell_type": "markdown",
   "metadata": {},
   "source": [
    "## 🍳 Data Preparation"
   ]
  },
  {
   "cell_type": "markdown",
   "metadata": {},
   "source": [
    "We'll be training on the MNIST dataset which has 60K images of handwritten numbers ranging from 0 to 9."
   ]
  },
  {
   "cell_type": "code",
   "execution_count": null,
   "metadata": {},
   "outputs": [],
   "source": [
    "batch_size = 100\n",
    "\n",
    "# MNIST dataset\n",
    "train_dataset = datasets.MNIST(root='./data', train=True, transform=transforms.ToTensor(), download=True)\n",
    "val_dataset = datasets.MNIST(root='./data', train=False, transform=transforms.ToTensor())\n",
    "\n",
    "# Data loader: To be converted to batched of shape [100, 1, 28, 28]\n",
    "train_loader = DataLoader(dataset=train_dataset, batch_size=batch_size, shuffle=True)\n",
    "val_loader = DataLoader(dataset=val_dataset, batch_size=batch_size, shuffle=False)\n",
    "\n",
    "plot_image_grid(train_dataset)"
   ]
  },
  {
   "cell_type": "markdown",
   "metadata": {},
   "source": [
    "## 🚢 Model Building"
   ]
  },
  {
   "cell_type": "code",
   "execution_count": 3,
   "metadata": {},
   "outputs": [],
   "source": [
    "class NeuralNet(nn.Module):\n",
    "    def __init__(self, input_size, hidden_size, output_size):\n",
    "        super(NeuralNet, self).__init__()\n",
    "        \n",
    "        # Architecture\n",
    "        self.layers= nn.Sequential(\n",
    "        nn.Flatten(),                                       # Flattening the 28x28 image into a 784 vector\n",
    "        nn.Linear(input_size, hidden_size), nn.Dropout(p=0.0), nn.ReLU(),                          \n",
    "        nn.Linear(hidden_size, output_size)                 # Ask yourself, why?\n",
    "        )\n",
    "\n",
    "        # Loss Function\n",
    "        self.criterion = nn.CrossEntropyLoss()\n",
    "        \n",
    "        # Optimizer\n",
    "        self.optimizer = torch.optim.Adam(self.parameters(), lr=0.002)\n",
    "\n",
    "    \n",
    "    def forward(self, x):\n",
    "        logits = self.layers(x)\n",
    "        return logits   "
   ]
  },
  {
   "cell_type": "code",
   "execution_count": 4,
   "metadata": {},
   "outputs": [
    {
     "data": {
      "text/plain": [
       "NeuralNet(\n",
       "  (layers): Sequential(\n",
       "    (0): Flatten(start_dim=1, end_dim=-1)\n",
       "    (1): Linear(in_features=784, out_features=500, bias=True)\n",
       "    (2): Dropout(p=0.0, inplace=False)\n",
       "    (3): ReLU()\n",
       "    (4): Linear(in_features=500, out_features=10, bias=True)\n",
       "  )\n",
       "  (criterion): CrossEntropyLoss()\n",
       ")"
      ]
     },
     "execution_count": 4,
     "metadata": {},
     "output_type": "execute_result"
    }
   ],
   "source": [
    "input_size, hidden_size, num_classes = 784, 500, 10\n",
    "model = NeuralNet(input_size, hidden_size, num_classes).to(device)   \n",
    "model"
   ]
  },
  {
   "cell_type": "markdown",
   "metadata": {},
   "source": [
    "## 💪 Model Training"
   ]
  },
  {
   "cell_type": "code",
   "execution_count": 5,
   "metadata": {},
   "outputs": [
    {
     "data": {
      "application/vnd.jupyter.widget-view+json": {
       "model_id": "77c7780f54954444b33ead8636505373",
       "version_major": 2,
       "version_minor": 0
      },
      "text/plain": [
       "Epochs:   0%|          | 0/3 [00:00<?, ?it/s]"
      ]
     },
     "metadata": {},
     "output_type": "display_data"
    }
   ],
   "source": [
    "from tqdm.notebook import tqdm\n",
    "\n",
    "NUM_EPOCHS = 3\n",
    "num_batches = len(train_loader)\n",
    "with tqdm(range(NUM_EPOCHS), desc=\"Epochs\") as epoch_bar:\n",
    "    for epoch in epoch_bar:\n",
    "        total_loss, num_correct = 0.0, 0\n",
    "        for i, (xb, yb) in enumerate(train_loader):\n",
    "            \n",
    "            # 0. Move to GPU\n",
    "            xb, yb = xb.to(device), yb.to(device)\n",
    "            if i == 0: assert xb.shape == (batch_size, 1, 28, 28)\n",
    "            \n",
    "            # 1. Forward pass\n",
    "            ŷb = model(xb)\n",
    "            if i == 0: assert ŷb.shape == (batch_size, 10)\n",
    "            loss = model.criterion(ŷb, yb)\n",
    "\n",
    "            # 2. Backward pass\n",
    "            loss.backward()\n",
    "            \n",
    "            # 3. Optimization step\n",
    "            model.optimizer.step()\n",
    "            model.optimizer.zero_grad()\n",
    "\n",
    "            # 4. Statistics:\n",
    "            total_loss += loss.item()\n",
    "            ŷb = ŷb.argmax(dim=1)\n",
    "            num_correct += (ŷb == yb).sum().item()\n",
    "         \n",
    "        # 5. Logging:\n",
    "        loss = total_loss / num_batches\n",
    "        accuracy = num_correct / (num_batches * train_loader.batch_size)\n",
    "        epoch_bar.set_postfix(loss=loss, accuracy = accuracy)"
   ]
  },
  {
   "cell_type": "markdown",
   "metadata": {},
   "source": [
    "## 🕵️ Evaluation"
   ]
  },
  {
   "cell_type": "markdown",
   "metadata": {},
   "source": [
    "Let's loop and test all validation data:"
   ]
  },
  {
   "cell_type": "code",
   "execution_count": 6,
   "metadata": {},
   "outputs": [
    {
     "name": "stdout",
     "output_type": "stream",
     "text": [
      "Accuracy: 97.76 %\n"
     ]
    }
   ],
   "source": [
    "with torch.no_grad():\n",
    "    num_correct = 0\n",
    "    for xb, yb in val_loader:\n",
    "        # 0. Move to GPU\n",
    "        xb, yb = xb.to(device), yb.to(device)\n",
    "        # 1. Forward pass\n",
    "        ŷb = model(xb)                       # (batch_size, num_classes)\n",
    "        # 2. Statistics \n",
    "        ŷb = ŷb.argmax(1)      \n",
    "        num_correct += (ŷb == yb).sum().item()\n",
    "\n",
    "    acc = 100.0 * num_correct / len(val_dataset)\n",
    "    print(f'Accuracy: {acc} %')"
   ]
  },
  {
   "cell_type": "markdown",
   "metadata": {},
   "source": [
    "### 💻 Deployment"
   ]
  },
  {
   "cell_type": "code",
   "execution_count": 7,
   "metadata": {},
   "outputs": [
    {
     "data": {
      "text/plain": [
       "NeuralNet(\n",
       "  (layers): Sequential(\n",
       "    (0): Flatten(start_dim=1, end_dim=-1)\n",
       "    (1): Linear(in_features=784, out_features=500, bias=True)\n",
       "    (2): Dropout(p=0.0, inplace=False)\n",
       "    (3): ReLU()\n",
       "    (4): Linear(in_features=500, out_features=10, bias=True)\n",
       "  )\n",
       "  (criterion): CrossEntropyLoss()\n",
       ")"
      ]
     },
     "execution_count": 7,
     "metadata": {},
     "output_type": "execute_result"
    }
   ],
   "source": [
    "# Save the model\n",
    "torch.save(model.state_dict(), 'model.pth')\n",
    "\n",
    "# Load the model\n",
    "loaded_model = NeuralNet(input_size, hidden_size, num_classes).to(device)   \n",
    "loaded_model.load_state_dict(torch.load('model.pth'))\n",
    "loaded_model = loaded_model.to(device)\n",
    "loaded_model.eval()"
   ]
  },
  {
   "cell_type": "code",
   "execution_count": 14,
   "metadata": {},
   "outputs": [
    {
     "data": {
      "image/png": "[encoded data removed]",
      "text/plain": [
       "<Figure size 640x480 with 1 Axes>"
      ]
     },
     "metadata": {},
     "output_type": "display_data"
    }
   ],
   "source": [
    "rand_num = torch.randint(0, 10000, (1,)).item()\n",
    "rand_val_img, _ = val_dataset[rand_num]\n",
    "plt.imshow(rand_val_img[0], cmap='gray')\n",
    "prediction = loaded_model(rand_val_img.to(device).unsqueeze(0)).argmax(dim=1).item()\n",
    "plt.text(0.05, 0.9, f'Model Prediction: {prediction}', color=\"yellow\", transform=plt.gca().transAxes, fontsize=12)\n",
    "plt.show()"
   ]
  }
 ],
 "metadata": {
  "kernelspec": {
   "display_name": "Python 3",
   "language": "python",
   "name": "python3"
  },
  "language_info": {
   "codemirror_mode": {
    "name": "ipython",
    "version": 3
   },
   "file_extension": ".py",
   "mimetype": "text/x-python",
   "name": "python",
   "nbconvert_exporter": "python",
   "pygments_lexer": "ipython3",
   "version": "3.9.16"
  }
 },
 "nbformat": 4,
 "nbformat_minor": 2
}
