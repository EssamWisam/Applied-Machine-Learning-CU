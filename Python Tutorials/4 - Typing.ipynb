{
 "cells": [
  {
   "cell_type": "markdown",
   "metadata": {},
   "source": [
    "## 💡 Type Hints in Python"
   ]
  },
  {
   "cell_type": "markdown",
   "metadata": {},
   "source": [
    "- As we argued earlier, if a language like C++ wanted to drop explict type annotation it could have done so\n",
    "- People (which include you from the future) may struggle to understand what types a function expects"
   ]
  },
  {
   "cell_type": "markdown",
   "metadata": {},
   "source": [
    "#### Basic Types"
   ]
  },
  {
   "cell_type": "code",
   "execution_count": 1,
   "metadata": {},
   "outputs": [],
   "source": [
    "# integer\n",
    "x: int = 1\n",
    "# float\n",
    "x: float = 1.0\n",
    "# boolean\n",
    "x: bool = True\n",
    "# string\n",
    "x: str = \"test\"\n",
    "# bytes\n",
    "x: bytes = b\"test\"\n",
    "# meme\n",
    "x: int = \"Hehehe\""
   ]
  },
  {
   "cell_type": "markdown",
   "metadata": {},
   "source": [
    "<div align=\"center\"><img src=\"https://i.imgur.com/LQdelhr.png\" width=\"600\"/></div>"
   ]
  },
  {
   "cell_type": "markdown",
   "metadata": {},
   "source": [
    "Despite this, they are more or less an industry standard due to the aforementioned fact."
   ]
  },
  {
   "cell_type": "markdown",
   "metadata": {},
   "source": [
    "<div align=\"center\"> <img src=\"https://i.imgur.com/b5WOd1q.png\"/ > </div>"
   ]
  },
  {
   "cell_type": "markdown",
   "metadata": {},
   "source": [
    "#### Collections"
   ]
  },
  {
   "cell_type": "code",
   "execution_count": null,
   "metadata": {},
   "outputs": [],
   "source": [
    "# list\n",
    "x: list[int] = [1]\n",
    "# tuple\n",
    "x: tuple[int, str, float] = (3, \"yes\", 7.5)  \n",
    "# dicts\n",
    "x: dict[str, float] = {\"field\": 2.0}  \n",
    "# sets\n",
    "x: set[int] = {6, 7}\n",
    "# Tuple with any number of elements\n",
    "x: tuple[int, ...] = (1, 2, 3)  "
   ]
  },
  {
   "cell_type": "markdown",
   "metadata": {},
   "source": [
    "For Python 3.10+ (otherwise need the `typing` library)"
   ]
  },
  {
   "cell_type": "code",
   "execution_count": null,
   "metadata": {},
   "outputs": [],
   "source": [
    "import typing\n",
    "# Union feature\n",
    "x: list[int|str] = [3, 5, \"test\", \"fun\"]\n",
    "\n",
    "# Optional feature\n",
    "x: str|None = \"something\""
   ]
  },
  {
   "cell_type": "markdown",
   "metadata": {},
   "source": [
    "Can check types using `mypy` package. Simply `mypy file.py` and it will return any errors in the command line. Likewise, it has a VSCode extension by Microsoft."
   ]
  }
 ],
 "metadata": {
  "kernelspec": {
   "display_name": "Python 3",
   "language": "python",
   "name": "python3"
  },
  "language_info": {
   "codemirror_mode": {
    "name": "ipython",
    "version": 3
   },
   "file_extension": ".py",
   "mimetype": "text/x-python",
   "name": "python",
   "nbconvert_exporter": "python",
   "pygments_lexer": "ipython3",
   "version": "3.9.16"
  }
 },
 "nbformat": 4,
 "nbformat_minor": 2
}
