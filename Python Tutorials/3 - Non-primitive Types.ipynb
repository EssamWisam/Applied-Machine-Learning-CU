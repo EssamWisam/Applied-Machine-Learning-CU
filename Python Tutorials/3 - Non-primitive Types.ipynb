{
 "cells": [
  {
   "cell_type": "markdown",
   "metadata": {},
   "source": [
    "## 📦 Non-primitive Types\n",
    "Aside from those primitive types, Python also supports the following non-primitive types\n",
    "| Type           | Description                   |\n",
    "|----------------|-------------------------------|\n",
    "| Sequence Types | `list`, `tuple`, `range`     |\n",
    "| Mapping Type   | `dict`                        |\n",
    "| Set Types      | `set`, `frozenset`           |\n",
    "| Binary Types   | `bytes`, `bytearray`, `memoryview` |"
   ]
  },
  {
   "cell_type": "markdown",
   "metadata": {},
   "source": [
    "### 🟢🔴🔵 Lists\n",
    "- Lists in python are implemented as dynamic C arrays that overallocate as needed.\n",
    "\n",
    "- Lists are denoted by the square brackets [ ] where entries in list are separated by commas.\n",
    "\n",
    "- Unlike most programming languages, Lists in python can contain variables of different types (how?)"
   ]
  },
  {
   "cell_type": "code",
   "execution_count": 1,
   "metadata": {},
   "outputs": [
    {
     "name": "stdout",
     "output_type": "stream",
     "text": [
      "[1, 2, 3]\n"
     ]
    }
   ],
   "source": [
    "## List declaration is simple\n",
    "list_of_numbers = [1, 2, 3] \n",
    "print(list_of_numbers)"
   ]
  },
  {
   "cell_type": "code",
   "execution_count": 2,
   "metadata": {},
   "outputs": [
    {
     "name": "stdout",
     "output_type": "stream",
     "text": [
      "['I am a String', 23, True]\n"
     ]
    }
   ],
   "source": [
    "## different types example\n",
    "different_types_list = [\"I am a String\", 23, True] ## list of string, integer and boolean!\n",
    "print(different_types_list)"
   ]
  },
  {
   "cell_type": "code",
   "execution_count": 3,
   "metadata": {},
   "outputs": [
    {
     "name": "stdout",
     "output_type": "stream",
     "text": [
      "3\n"
     ]
    }
   ],
   "source": [
    "## to get the length of list, we use the len() function\n",
    "three_entries_list = [1, 2, 3]\n",
    "print(len(three_entries_list)) ## length of the list is 3"
   ]
  },
  {
   "cell_type": "markdown",
   "metadata": {},
   "source": [
    "#### Operators"
   ]
  },
  {
   "cell_type": "markdown",
   "metadata": {},
   "source": [
    "##### Basic Operators"
   ]
  },
  {
   "cell_type": "markdown",
   "metadata": {},
   "source": [
    "| Operation              | Description                                                      | Example                     |\n",
    "|------------------------|------------------------------------------------------------------|-----------------------------|\n",
    "| `len(list)`          | Returns the number of elements in the list                   | `len([1, 2, 3])`            |\n",
    "| `list[index]`          | Accesses the element at the specified index                      | `[1, 2, 3][0]`              |\n",
    "| `list[-index]`          | Equivalent to `list[len(list)-index]`                      | `[1, 2, 3][-1]`              |\n",
    "| `list[start:stop]`     | Returns a sublist from `start` to `stop-1`                        | `[1, 2, 3][1:3]`            |\n",
    "| `list[start:stop:step]`| Returns a sublist from `start` to `stop-1` with a step of `step`  | `[1, 2, 3, 4, 5][::2]`      |\n",
    "| `list1 + list2`        | Concatenates two lists                                            | `[1, 2] + [3, 4]`           |\n",
    "| `list * n`             | Repeats the list `n` times                                       | `[1, 2] * 3`                |\n",
    "| `value in list`        | Checks if a value is present in the list                          | `2 in [1, 2, 3]`            |\n",
    "| `value not in list`    | Checks if a value is not present in the list                      | `4 not in [1, 2, 3]`        |\n"
   ]
  },
  {
   "cell_type": "markdown",
   "metadata": {},
   "source": [
    "Indexing"
   ]
  },
  {
   "cell_type": "code",
   "execution_count": 1,
   "metadata": {},
   "outputs": [
    {
     "name": "stdout",
     "output_type": "stream",
     "text": [
      "1\n",
      "3\n"
     ]
    }
   ],
   "source": [
    "sample_list = [1, 2, 3, 4, 5, 6, 7, 8, 9, 10]\n",
    "## to get the 1st entry in the list\n",
    "print(sample_list[0])\n",
    "## to get the 3rd entry in the list\n",
    "print(sample_list[2])"
   ]
  },
  {
   "cell_type": "code",
   "execution_count": 8,
   "metadata": {},
   "outputs": [
    {
     "name": "stdout",
     "output_type": "stream",
     "text": [
      "10\n",
      "9\n"
     ]
    }
   ],
   "source": [
    "sample_list = [1, 2, 3, 4, 5, 6, 7, 8, 9, 10]\n",
    "## to get the last entry\n",
    "print(sample_list[-1])\n",
    "## to get the second-to-last entry\n",
    "print(sample_list[-2])"
   ]
  },
  {
   "cell_type": "code",
   "execution_count": 13,
   "metadata": {},
   "outputs": [
    {
     "name": "stdout",
     "output_type": "stream",
     "text": [
      "[3, 4, 5]\n",
      "[3, 5]\n"
     ]
    }
   ],
   "source": [
    "sample_list = [1, 2, 3, 4, 5, 6, 7, 8, 9, 10]\n",
    "\n",
    "## access the 2nd, 3rd, 4th elements, we start from index 2 to index 5 (not index 4)\n",
    "sublist = sample_list[2:5]\n",
    "print(sublist)\n",
    "sublist_at_even = sample_list[2:5:2]\n",
    "print(sublist_at_even)"
   ]
  },
  {
   "cell_type": "code",
   "execution_count": 15,
   "metadata": {},
   "outputs": [
    {
     "name": "stdout",
     "output_type": "stream",
     "text": [
      "[1, 2, 3, 4, 5, 6, 7, 8, 9, 10]\n"
     ]
    }
   ],
   "source": [
    "sample_list = [1, 2, 3, 4, 5, 6, 7, 8, 9, 10]\n",
    "# if you miss an element in the range, it's set as the extreme value of that side\n",
    "print(sample_list[:3] + sample_list[3:])"
   ]
  },
  {
   "cell_type": "markdown",
   "metadata": {},
   "source": [
    "`in` operator"
   ]
  },
  {
   "cell_type": "code",
   "execution_count": 2,
   "metadata": {},
   "outputs": [
    {
     "name": "stdout",
     "output_type": "stream",
     "text": [
      "True\n"
     ]
    }
   ],
   "source": [
    "print(3 in [1, 2, 3, 4, 5])"
   ]
  },
  {
   "cell_type": "markdown",
   "metadata": {},
   "source": [
    "##### More Operators"
   ]
  },
  {
   "cell_type": "markdown",
   "metadata": {},
   "source": [
    "Adding Elemends\n",
    "| Operation            | Description                                                  | Example                     |\n",
    "|----------------------|--------------------------------------------------------------|-----------------------------|\n",
    "| `list.append(x)`     | Adds an element to the end of the list                      | `list.append(4)`       |\n",
    "| `list.extend(iterable)` | Extends the list by appending elements from the iterable  | `list.extend([4, 5])`  |\n",
    "| `list.insert(i, x)`  | Inserts an element at a specified position                  | `list.insert(1, 4)`    |\n",
    "\n",
    "Removing Elements\n",
    "| Operation            | Description                                                  | Example                     |\n",
    "|----------------------|--------------------------------------------------------------|-----------------------------|\n",
    "| `list.remove(x)`     | Removes the first occurrence of a value from the list        | `[1,list.remove(3)`    |\n",
    "| `list.pop([i])`      | Removes and returns the element at the specified position, or the last element if not specified | `[1, 2, 3].pop(1)` |\n",
    "| `list.clear()`       | Removes all items from the list                              | `list.clear()`         |\n",
    "\n",
    "Finding elements\n",
    "| Operation            | Description                                                  | Example                     |\n",
    "|----------------------|--------------------------------------------------------------|-----------------------------|\n",
    "| `list.index(x)`      | Returns the index of the first occurrence of a value         | `list.index(2)`        |\n",
    "| `list.count(x)`      | Returns the number of occurrences of a value                 | `[1,list.count(1)`     |\n",
    "\n",
    "Reordering\n",
    "| Operation            | Description                                                  | Example                     |\n",
    "|----------------------|--------------------------------------------------------------|-----------------------------|\n",
    "| `list.sort()`        | Sorts the list in ascending order                            | `list.sort()`          |\n",
    "| `list.reverse()`     | Reverses the elements of the list                            | `list.reverse()`       |\n",
    "| `sorted(list)`       | Returns a new sorted list based on the original list         | `sorted(list)`        |"
   ]
  },
  {
   "cell_type": "markdown",
   "metadata": {},
   "source": [
    "Notice that most of these methods except `sorted` and `list.index`, `list.count` work in-place"
   ]
  },
  {
   "cell_type": "code",
   "execution_count": 3,
   "metadata": {},
   "outputs": [
    {
     "name": "stdout",
     "output_type": "stream",
     "text": [
      "[1, 2, 3, 4]\n",
      "[1, 2, 3, 4, 5]\n"
     ]
    }
   ],
   "source": [
    "# Adding Elements\n",
    "my_list = [1, 2, 3]\n",
    "my_list.append(4)\n",
    "print(my_list)  # [1, 2, 3, 4]\n",
    "\n",
    "my_list = [1, 2, 3]\n",
    "my_list.extend([4, 5])\n",
    "print(my_list)  # [1, 2, 3, 4, 5]"
   ]
  },
  {
   "cell_type": "markdown",
   "metadata": {},
   "source": [
    "### 🟩 🟧 🟪 Tuples"
   ]
  },
  {
   "cell_type": "markdown",
   "metadata": {},
   "source": [
    "Like lists but implemented as fixed-sized arrays. Hence, they are immutable:\n",
    "```\n",
    "immutable object is an object whose state cannot be modified after it is created\n",
    "```\n",
    "- Defined with ` () `"
   ]
  },
  {
   "cell_type": "markdown",
   "metadata": {},
   "source": [
    "Only methods abovethat read thetuple without modifying such as `len`, `find`, `count`, `in`, indexing will work."
   ]
  },
  {
   "cell_type": "code",
   "execution_count": 1,
   "metadata": {},
   "outputs": [
    {
     "ename": "TypeError",
     "evalue": "'tuple' object does not support item assignment",
     "output_type": "error",
     "traceback": [
      "\u001b[0;31m---------------------------------------------------------------------------\u001b[0m",
      "\u001b[0;31mTypeError\u001b[0m                                 Traceback (most recent call last)",
      "Cell \u001b[0;32mIn[1], line 2\u001b[0m\n\u001b[1;32m      1\u001b[0m tuple_example \u001b[38;5;241m=\u001b[39m (\u001b[38;5;241m1\u001b[39m, \u001b[38;5;241m2\u001b[39m, \u001b[38;5;241m3\u001b[39m, \u001b[38;5;241m4\u001b[39m, \u001b[38;5;124m\"\u001b[39m\u001b[38;5;124mTomato\u001b[39m\u001b[38;5;124m\"\u001b[39m)\n\u001b[0;32m----> 2\u001b[0m \u001b[43mtuple_example\u001b[49m\u001b[43m[\u001b[49m\u001b[38;5;241;43m0\u001b[39;49m\u001b[43m]\u001b[49m \u001b[38;5;241m=\u001b[39m \u001b[38;5;241m4\u001b[39m\n",
      "\u001b[0;31mTypeError\u001b[0m: 'tuple' object does not support item assignment"
     ]
    }
   ],
   "source": [
    "tuple_example = (1, 2, 3, 4, \"Tomato\")\n",
    "tuple_example[0] = 4    ## this will cause an error called: tuple object does not support item assignment"
   ]
  },
  {
   "cell_type": "code",
   "execution_count": 2,
   "metadata": {},
   "outputs": [
    {
     "name": "stdout",
     "output_type": "stream",
     "text": [
      "(2, 3)\n",
      "True\n"
     ]
    }
   ],
   "source": [
    "print(tuple_example[1:3])\n",
    "print(\"Tomato\" in tuple_example)"
   ]
  },
  {
   "cell_type": "code",
   "execution_count": 3,
   "metadata": {},
   "outputs": [
    {
     "name": "stdout",
     "output_type": "stream",
     "text": [
      "(1, 2, 2, 3)\n"
     ]
    }
   ],
   "source": [
    "x = (1, 2)\n",
    "y = (2, 3)\n",
    "z = x + y\n",
    "print(z)                    ### Why does this work? It returned a new object"
   ]
  },
  {
   "cell_type": "markdown",
   "metadata": {},
   "source": [
    "Destructured Automatically"
   ]
  },
  {
   "cell_type": "code",
   "execution_count": 40,
   "metadata": {},
   "outputs": [
    {
     "name": "stdout",
     "output_type": "stream",
     "text": [
      "9 8 7\n"
     ]
    }
   ],
   "source": [
    "a, b, c = (9, 8, 7)\n",
    "print(a, b, c)"
   ]
  },
  {
   "cell_type": "markdown",
   "metadata": {},
   "source": [
    "Converting to list and vice versa is easy:"
   ]
  },
  {
   "cell_type": "code",
   "execution_count": 32,
   "metadata": {},
   "outputs": [
    {
     "name": "stdout",
     "output_type": "stream",
     "text": [
      "<class 'list'>\n"
     ]
    }
   ],
   "source": [
    "sample_list = (1, 2, 3, 4, 5, 6, 7, 8, 9, 10)\n",
    "tuple_from_list = list(sample_list)\n",
    "print(type(tuple_from_list)) "
   ]
  },
  {
   "cell_type": "markdown",
   "metadata": {},
   "source": [
    "When to use?  \n",
    "- Tuples are faster than lists. If you're defining a constant set of values and all you're ever going to do with it is iterate through it, use a tuple instead of a list.\n",
    "\n",
    "- It makes your code safer if you “write-protect” data that does not need to be changed.\n",
    "    - Example data: coordinates of a location where your heli will land"
   ]
  },
  {
   "cell_type": "markdown",
   "metadata": {},
   "source": [
    "##### Back to Remining String Operations"
   ]
  },
  {
   "cell_type": "markdown",
   "metadata": {},
   "source": [
    "Strings in Python are just immutable sequences of characters. \n",
    "\n",
    "| Operation           | Example                          | Description                                    |\n",
    "|---------------------|----------------------------------|------------------------------------------------|\n",
    "| Access by Index     | `s1[0]`                          | Returns the first character of `s1`.          |\n",
    "| Slicing             | `s1[1:4]`                        | Returns the substring \"ell\" from `s1`.        |\n",
    "| Membership          | `'lo' in s1`                     | Checks if the substring 'lo' is in `s1`.      |\n",
    "| Splitting           | `s4.split(\",\")`                  | Splits `s4` into a list of substrings using comma as separator. |\n",
    "| Joining             | `\" - \".join(split_list)`         | Joins elements of `split_list` with ' - ' as separator. |"
   ]
  },
  {
   "cell_type": "code",
   "execution_count": 4,
   "metadata": {},
   "outputs": [],
   "source": [
    "s1, s2 = \"Hello\", \"World\"\n",
    "\n",
    "# Access by Index\n",
    "char_at_index_0 = s1[0]       # 'H'\n",
    "# Slicing\n",
    "substring = s1[1:4]            # \"ell\"\n",
    "# Membership\n",
    "is_in = 'lo' in s1             # True\n",
    "\n",
    "# Splitting\n",
    "s4 = \"apple,banana,orange\"\n",
    "split_list = s4.split(\",\")    # ['apple', 'banana', 'orange']\n",
    "\n",
    "# Joining\n",
    "joined_string = \"-\".join(split_list)  # \"apple-banana-orange\""
   ]
  },
  {
   "cell_type": "markdown",
   "metadata": {},
   "source": [
    "Will see `range` later."
   ]
  },
  {
   "cell_type": "markdown",
   "metadata": {},
   "source": [
    "### 📖 Dictionaries\n",
    "- Represent a set of key-valued pairs\n",
    "- Implemented as hash tables with open-addressing for collisions."
   ]
  },
  {
   "cell_type": "code",
   "execution_count": 5,
   "metadata": {},
   "outputs": [
    {
     "name": "stdout",
     "output_type": "stream",
     "text": [
      "90\n"
     ]
    }
   ],
   "source": [
    "my_dict = {\n",
    "    \"Alice\": 90,\n",
    "    \"Bob\": 85,\n",
    "    \"Charlie\": 78,\n",
    "    \"David\": 95,\n",
    "}\n",
    "print(my_dict[\"Alice\"])"
   ]
  },
  {
   "cell_type": "code",
   "execution_count": 6,
   "metadata": {},
   "outputs": [
    {
     "name": "stdout",
     "output_type": "stream",
     "text": [
      "{'Alice': 90, 'Bob': 85, 'Charlie': 78, 'David': 95, 'Eve': 92}\n",
      "{'Alice': 90, 'Bob': 85, 'Charlie': 78, 'David': 95}\n"
     ]
    }
   ],
   "source": [
    "# update the dict with a new item\n",
    "my_dict[\"Eve\"] = 92\n",
    "print(my_dict)\n",
    "# now remove her with pop\n",
    "my_dict.pop(\"Eve\")\n",
    "print(my_dict)"
   ]
  },
  {
   "cell_type": "markdown",
   "metadata": {},
   "source": [
    "Other dictionary methods:"
   ]
  },
  {
   "cell_type": "code",
   "execution_count": 4,
   "metadata": {},
   "outputs": [
    {
     "name": "stdout",
     "output_type": "stream",
     "text": [
      "dict_keys(['Alice', 'Bob', 'Charlie', 'David'])\n",
      "dict_values([90, 85, 78, 95])\n",
      "dict_items([('Alice', 90), ('Bob', 85), ('Charlie', 78), ('David', 95)])\n"
     ]
    }
   ],
   "source": [
    "print(my_dict.keys())    # Output: dict_keys(['name', 'occupation'])\n",
    "print(my_dict.values())  # Output: dict_values(['John', 'Engineer'])\n",
    "print(my_dict.items())   # Output: dict_items([('name', 'John'), ('occupation', 'Engineer')])\n",
    "my_dict.clear()          # Clearing all items from the dictionary"
   ]
  },
  {
   "cell_type": "markdown",
   "metadata": {},
   "source": [
    "**Fact:** keys do not need to be of the same type, but they need to be **IMMUTABLE**. Also values can be of any data type."
   ]
  },
  {
   "cell_type": "code",
   "execution_count": null,
   "metadata": {},
   "outputs": [],
   "source": [
    "different_keys_dictionary = { \n",
    "    'a': True, \n",
    "    23: \"Is My Age\", \n",
    "    ('Series', 'Netflix List') : ['Sherlock', 'Lucifer', 'Elite']       ### what if we switch? Breaks due to mutability\n",
    "}\n",
    "\n",
    "series_i_like = different_keys_dictionary[('Series', 'Netflix List')]\n",
    "print(series_i_like)"
   ]
  },
  {
   "cell_type": "markdown",
   "metadata": {},
   "source": [
    "### 🔢 Sets\n",
    "Sets are implemented as something like dictionaries with dummy values (the keys being the members of the set), with some optimization(s) that exploit this lack of values (i.e., also hashtable)\n",
    "- Define like lists but use `{}` syntax\n",
    "- Mathematically, a set is unordered (don't expect indexing) and has no duplicates."
   ]
  },
  {
   "cell_type": "code",
   "execution_count": 10,
   "metadata": {},
   "outputs": [
    {
     "name": "stdout",
     "output_type": "stream",
     "text": [
      "[1, 1, 2, 2, 3, 3]\n",
      "{1, 2, 3}\n",
      "{1, 2, 3}\n"
     ]
    }
   ],
   "source": [
    "### Notice the difference\n",
    "non_unique_list = [1, 1, 2, 2, 3, 3]\n",
    "print(non_unique_list)\n",
    "\n",
    "unique_set = {1, 1, 2, 2, 3, 3}\n",
    "print(unique_set)\n",
    "print(set(non_unique_list))"
   ]
  },
  {
   "cell_type": "markdown",
   "metadata": {},
   "source": [
    "##### Common Set Methods\n",
    "| Method                      | Description                                                                       |\n",
    "|-----------------------------|-----------------------------------------------------------------------------------|\n",
    "| `add()`                     | Adds an element to the set                                                       |\n",
    "| `clear()`                   | Removes all the elements from the set                                             |\n",
    "| `difference()`              | Returns a set containing the difference between two or more sets                  |\n",
    "| `intersection()`            | Returns a set that is the intersection of two or more sets                        |\n",
    "| `isdisjoint()`              | Returns whether two sets have an intersection or not                              |\n",
    "| `issubset()`                | Returns whether another set contains this set or not                              |\n",
    "| `issuperset()`              | Returns whether this set contains another set or not                              |\n",
    "| `remove()`                  | Removes the specified element                                                     |\n",
    "| `union()`                   | Returns a set containing the union of sets                                        |\n"
   ]
  },
  {
   "cell_type": "code",
   "execution_count": 7,
   "metadata": {},
   "outputs": [
    {
     "name": "stdout",
     "output_type": "stream",
     "text": [
      "Union of set1 and set2: {1, 2, 3, 4, 5}\n",
      "True\n"
     ]
    }
   ],
   "source": [
    "# Create two sets\n",
    "set1 = {1, 2, 3}\n",
    "set2 = {3, 4, 5}\n",
    "\n",
    "# Union of two sets\n",
    "union_set = set1.union(set2)\n",
    "print(\"Union of set1 and set2:\", union_set)\n",
    "\n",
    "# of course\n",
    "print(4 in union_set)"
   ]
  },
  {
   "cell_type": "markdown",
   "metadata": {},
   "source": [
    "`frozenset` is the immutable version of set."
   ]
  },
  {
   "cell_type": "markdown",
   "metadata": {},
   "source": [
    "---------------------"
   ]
  },
  {
   "cell_type": "markdown",
   "metadata": {},
   "source": [
    "### Identity Operator and Aliasing\n",
    "\n",
    "We mentioned earlier that non-primitive types such as lists can take different types. Why?\n",
    "A list is implemented as a dynamic array where each element is a pointer. A void pointer can point to any type of element.\n",
    "\n",
    "It holds, that elements in any non-primitive types are actually pointers to the values. Let's see the consequences:"
   ]
  },
  {
   "cell_type": "code",
   "execution_count": 14,
   "metadata": {},
   "outputs": [
    {
     "name": "stdout",
     "output_type": "stream",
     "text": [
      "X is changed into:  [5, True, 7]\n"
     ]
    }
   ],
   "source": [
    "X = [5, 6, 7]\n",
    "Y = X               # Now internally, Y is the same array of pointers\n",
    "Y[1] = True         # This changes the second pointed object by Y\n",
    "\n",
    "print('X is changed into: ', X)"
   ]
  },
  {
   "cell_type": "markdown",
   "metadata": {},
   "source": [
    "The **equality** operator checks if the **Values** of both variables are the same! but the **Identity** operator checks if they both point to the **same memory location**."
   ]
  },
  {
   "cell_type": "code",
   "execution_count": 15,
   "metadata": {},
   "outputs": [
    {
     "name": "stdout",
     "output_type": "stream",
     "text": [
      "Are X and Y of the same values?  True\n",
      "Are X and Y of the same memory location?  True\n"
     ]
    }
   ],
   "source": [
    "X = [5, 6, 7]\n",
    "Y = X\n",
    "\n",
    "print('Are X and Y of the same values? ', Y == X)               ## YEP\n",
    "print('Are X and Y of the same memory location? ', Y is X)      ## YEP"
   ]
  },
  {
   "cell_type": "code",
   "execution_count": 8,
   "metadata": {},
   "outputs": [
    {
     "name": "stdout",
     "output_type": "stream",
     "text": [
      "Are X and Y of the same values?  True\n",
      "Are X and Y of the same memory location?  False\n"
     ]
    }
   ],
   "source": [
    "## But\n",
    "X = [5, 6, 7]\n",
    "Y = [5, 6, 7]\n",
    "\n",
    "print('Are X and Y of the same values? ', Y == X)                   ## YEP\n",
    "print('Are X and Y of the same memory location? ', Y is X)          ## NOPE"
   ]
  },
  {
   "cell_type": "markdown",
   "metadata": {},
   "source": [
    "**What** if we just wanted to copy an existing non-primitive?"
   ]
  },
  {
   "cell_type": "code",
   "execution_count": 11,
   "metadata": {},
   "outputs": [
    {
     "name": "stdout",
     "output_type": "stream",
     "text": [
      "Are X and Y of the same values?  True\n",
      "Are X and Y of the same memory location?  False\n"
     ]
    }
   ],
   "source": [
    "import copy \n",
    "X = [1, 2, 3]\n",
    "Y = copy.copy(X)\n",
    "\n",
    "print('Are X and Y of the same values? ', Y == X)               ## YEP\n",
    "print('Are X and Y of the same memory location? ', Y is X)      ## NOPE"
   ]
  },
  {
   "cell_type": "markdown",
   "metadata": {},
   "source": [
    "Be careful of how you use `copy`"
   ]
  },
  {
   "cell_type": "code",
   "execution_count": 12,
   "metadata": {},
   "outputs": [
    {
     "name": "stdout",
     "output_type": "stream",
     "text": [
      "[-1, 'A']\n"
     ]
    }
   ],
   "source": [
    "a = [\"a\", \"A\"]\n",
    "X = [1, 2, 3, a]            # the fourth element is a pointer to an array of pointers\n",
    "Y = copy.copy(X)            # this copies the four values but the fourth is a pointer!!!\n",
    "\n",
    "### Now let's modify the first element of a\n",
    "a[0] = -1\n",
    "print(Y[3])"
   ]
  },
  {
   "cell_type": "markdown",
   "metadata": {},
   "source": [
    "More generally, you will just use `deepcopy`"
   ]
  },
  {
   "cell_type": "code",
   "execution_count": 13,
   "metadata": {},
   "outputs": [
    {
     "name": "stdout",
     "output_type": "stream",
     "text": [
      "['a', 'A']\n"
     ]
    }
   ],
   "source": [
    "a = [\"a\", \"A\"]\n",
    "X = [1, 2, 3, a]                # the fourth element is a pointer to an array of pointers\n",
    "Y = copy.deepcopy(X)            # this copies the first three values then makes a new pointer copying the values of a\n",
    "\n",
    "### Now let's modify the first element of a\n",
    "a[0] = -1\n",
    "print(Y[3])"
   ]
  },
  {
   "cell_type": "markdown",
   "metadata": {},
   "source": [
    "### Optional: (`bytes`, `bytearray`, `memoryview`,)"
   ]
  },
  {
   "cell_type": "markdown",
   "metadata": {},
   "source": [
    "`bytes` represent an immutable sequence of integers between 0 and 255. Can use when reading a file with content that isn't exactly text (binary is the general format)."
   ]
  },
  {
   "cell_type": "code",
   "execution_count": 29,
   "metadata": {},
   "outputs": [
    {
     "name": "stdout",
     "output_type": "stream",
     "text": [
      "<class 'bytes'>\n",
      "72 33\n"
     ]
    }
   ],
   "source": [
    "data = b\"Hello, world!\"  # Create a bytes object\n",
    "\n",
    "print(type(data))  # Output: <class 'bytes'>\n",
    "\n",
    "# Accessing individual bytes\n",
    "first_byte = data[0]  # 72 (ASCII code for H)\n",
    "last_byte = data[-1]  # 33 (ASCII code for !)\n",
    "\n",
    "print(first_byte, last_byte)"
   ]
  },
  {
   "cell_type": "markdown",
   "metadata": {},
   "source": [
    "`bytearray` is just the mutable version of `bytes`"
   ]
  },
  {
   "cell_type": "code",
   "execution_count": 31,
   "metadata": {},
   "outputs": [
    {
     "name": "stdout",
     "output_type": "stream",
     "text": [
      "<class 'bytearray'>\n",
      "bytearray(b'Wello!')\n"
     ]
    }
   ],
   "source": [
    "data = bytearray(b\"Hello\")\n",
    "print(type(data))  # Output: <class 'bytearray'>\n",
    "# Modify data\n",
    "data[0] = 87  # Change H to W\n",
    "data.append(33)  # Add ! at the end\n",
    "print(data)  # Output: b\"Wello!\""
   ]
  },
  {
   "cell_type": "markdown",
   "metadata": {},
   "source": [
    "`memoryview` objects are great when you need subsets of `binary data` (that's what they accept) that only need to support indexing. Instead of having to take slices (and create new, potentially large) objects to pass to another API you can just take a memoryview object."
   ]
  },
  {
   "cell_type": "code",
   "execution_count": 39,
   "metadata": {},
   "outputs": [
    {
     "name": "stdout",
     "output_type": "stream",
     "text": [
      "[0, 1, 2, 99, 4, 5, 6, 7, 8, 9]\n"
     ]
    }
   ],
   "source": [
    "some_bytes = bytearray([0, 1, 2, 3, 4, 5, 6, 7, 8, 9])\n",
    "whole_view = memoryview(some_bytes)\n",
    "desired_slice_view = whole_view[3:6]\n",
    "desired_slice_view[0] = 99\n",
    "print(list(some_bytes))"
   ]
  },
  {
   "cell_type": "markdown",
   "metadata": {},
   "source": [
    "Why is this helpful? Sublists normally return copies!"
   ]
  },
  {
   "cell_type": "code",
   "execution_count": 5,
   "metadata": {},
   "outputs": [
    {
     "name": "stdout",
     "output_type": "stream",
     "text": [
      "[0, 1, 2, 3]\n"
     ]
    }
   ],
   "source": [
    "A = [0, 1, 2, 3]\n",
    "B = A[0:-1]\n",
    "B[0] = 99\n",
    "print(A)"
   ]
  }
 ],
 "metadata": {
  "kernelspec": {
   "display_name": "Python 3",
   "language": "python",
   "name": "python3"
  },
  "language_info": {
   "codemirror_mode": {
    "name": "ipython",
    "version": 3
   },
   "file_extension": ".py",
   "mimetype": "text/x-python",
   "name": "python",
   "nbconvert_exporter": "python",
   "pygments_lexer": "ipython3",
   "version": "3.9.16"
  }
 },
 "nbformat": 4,
 "nbformat_minor": 2
}
