{
 "cells": [
  {
   "cell_type": "markdown",
   "metadata": {},
   "source": [
    "## Revisiting Some Points"
   ]
  },
  {
   "cell_type": "markdown",
   "metadata": {},
   "source": [
    "#### 1. Missed last time"
   ]
  },
  {
   "cell_type": "markdown",
   "metadata": {},
   "source": [
    "**Side Note:** Type hinting for functions doesn't seem natively supported yet:\n",
    "```python\n",
    "from typing import Callable\n",
    "def my_function(func: Callable):\n",
    "    pass\n",
    "```\n",
    "To annotate Numpy arrays\n",
    "```python\n",
    "A: np.ndarray\n",
    "```"
   ]
  },
  {
   "cell_type": "markdown",
   "metadata": {},
   "source": [
    "#### 2. Tuples and lists\n",
    "Constant folding and overallocation"
   ]
  },
  {
   "cell_type": "code",
   "execution_count": 33,
   "metadata": {},
   "outputs": [
    {
     "name": "stdout",
     "output_type": "stream",
     "text": [
      "Time taken for vector points: 17.390185208000048\n",
      "Time taken for tuple points: 14.428995958000087\n"
     ]
    }
   ],
   "source": [
    "import numpy as np\n",
    "import timeit\n",
    "\n",
    "rand_vector_point = lambda: [np.random.rand(), np.random.rand()]  # note the []\n",
    "rand_tuple_point = lambda: (np.random.rand(), np.random.rand())  # note the ()\n",
    "\n",
    "# create vectors of 500 random points each\n",
    "vector_points = [rand_vector_point() for _ in range(1, 10000000)]\n",
    "tuple_points = [rand_tuple_point() for _ in range(1, 10000000)]\n",
    "\n",
    "# define a simple function calculating pairwise differences\n",
    "def difference_matrix(points):\n",
    "    return [p1[0] - p2[1] for p1, p2 in zip(points, points)]\n",
    "\n",
    "def compare_runtimes():\n",
    "    vector_time = timeit.timeit(lambda: difference_matrix(vector_points), number=10)\n",
    "    tuple_time = timeit.timeit(lambda: difference_matrix(tuple_points), number=10)\n",
    "    print(\"Time taken for vector points:\", vector_time)\n",
    "    print(\"Time taken for tuple points:\", tuple_time)\n",
    "\n",
    "compare_runtimes()"
   ]
  },
  {
   "cell_type": "markdown",
   "metadata": {},
   "source": [
    "#### 3. Accessing Private variables"
   ]
  },
  {
   "cell_type": "code",
   "execution_count": 3,
   "metadata": {},
   "outputs": [
    {
     "name": "stdout",
     "output_type": "stream",
     "text": [
      "123\n",
      "99\n",
      "{'_CMP__var': 99, 'course': 'PR'}\n",
      "['_CMP__var', '__class__', '__delattr__', '__dict__', '__dir__', '__doc__', '__eq__', '__format__', '__ge__', '__getattribute__', '__gt__', '__hash__', '__init__', '__init_subclass__', '__le__', '__lt__', '__module__', '__ne__', '__new__', '__reduce__', '__reduce_ex__', '__repr__', '__setattr__', '__sizeof__', '__str__', '__subclasshook__', '__weakref__', 'course']\n"
     ]
    }
   ],
   "source": [
    "class CMP:\n",
    "    def __init__(self):\n",
    "        self.__var = 123\n",
    "        self.course = 'PR'\n",
    "        \n",
    "        \n",
    "cream = CMP()\n",
    "print(cream._CMP__var)\n",
    "cream._CMP__var = 99\n",
    "print(cream._CMP__var)          # object._<classname>__<private_var>\n",
    "print(cream.__dict__)\n",
    "print(dir(cream))"
   ]
  },
  {
   "cell_type": "markdown",
   "metadata": {},
   "source": [
    "#### 4. `with` statement in-depth"
   ]
  },
  {
   "cell_type": "code",
   "execution_count": 18,
   "metadata": {},
   "outputs": [
    {
     "name": "stdout",
     "output_type": "stream",
     "text": [
      "__enter__ is called\n",
      "😊\n",
      "This is code logic\n",
      "__exit__ is called None None None\n"
     ]
    }
   ],
   "source": [
    "import sys\n",
    "\n",
    "class MyClass:\n",
    "  def __enter__(self):\n",
    "    print(\"__enter__ is called\") \n",
    "    return \"😊\"\n",
    "\n",
    "  def __exit__(self, type, value, trace):\n",
    "    # parameters include info about error if any\n",
    "    print(\"__exit__ is called\", type, value, trace)\n",
    "\n",
    "# main code:\n",
    "with MyClass() as sample:\n",
    "    print(sample)\n",
    "    #assert 1 == 0, \"Oops!\"\n",
    "    print(\"This is code logic\")"
   ]
  },
  {
   "cell_type": "markdown",
   "metadata": {},
   "source": [
    "#### 5. Generators"
   ]
  },
  {
   "cell_type": "markdown",
   "metadata": {},
   "source": [
    "Generators are an efficient way to iterate over large datasets without loading them all into memory at once."
   ]
  },
  {
   "cell_type": "markdown",
   "metadata": {},
   "source": [
    "This in inefficient for large `Z`:"
   ]
  },
  {
   "cell_type": "code",
   "execution_count": 1,
   "metadata": {},
   "outputs": [
    {
     "name": "stdout",
     "output_type": "stream",
     "text": [
      "0\n",
      "1\n",
      "4\n",
      "9\n",
      "16\n",
      "25\n",
      "36\n",
      "49\n",
      "64\n",
      "81\n"
     ]
    }
   ],
   "source": [
    "# define the generator expression -> doesn't store anything\n",
    "Z = [i**2 for i in range(10)]\n",
    "\n",
    "# iterate over the generator expression using a for loop\n",
    "for num in Z:\n",
    "    print(num)\n",
    "    \n",
    "# will never use Z again"
   ]
  },
  {
   "cell_type": "markdown",
   "metadata": {},
   "source": [
    "Efficient version uses generators which generate one item at a time, allowing you to process data on-the-fly without storing it all in memory."
   ]
  },
  {
   "cell_type": "code",
   "execution_count": 2,
   "metadata": {},
   "outputs": [
    {
     "name": "stdout",
     "output_type": "stream",
     "text": [
      "0\n",
      "1\n",
      "4\n",
      "9\n",
      "16\n",
      "25\n",
      "36\n",
      "49\n",
      "64\n",
      "81\n"
     ]
    }
   ],
   "source": [
    "# define the generator expression -> doesn't store anything\n",
    "Z = (i**2 for i in range(10))\n",
    "\n",
    "# iterate over the generator expression using a for loop\n",
    "for num in Z:\n",
    "    print(num)\n",
    "\n",
    "# its consumed now!\n",
    "for num in Z:\n",
    "    print(num) "
   ]
  },
  {
   "cell_type": "markdown",
   "metadata": {},
   "source": [
    "Functional version of generator"
   ]
  },
  {
   "cell_type": "code",
   "execution_count": 3,
   "metadata": {},
   "outputs": [
    {
     "name": "stdout",
     "output_type": "stream",
     "text": [
      "0\n",
      "1\n",
      "4\n",
      "9\n",
      "16\n",
      "25\n",
      "36\n",
      "49\n",
      "64\n",
      "81\n"
     ]
    }
   ],
   "source": [
    "import random\n",
    "\n",
    "# Define the generator function\n",
    "def example():\n",
    "    for i in range(10):\n",
    "        yield i**2\n",
    "\n",
    "# Iterate over the generator using a for loop\n",
    "Z =  example()\n",
    "for num in Z:\n",
    "    print(num)\n",
    "    \n",
    "for num in Z:\n",
    "    print(num)"
   ]
  }
 ],
 "metadata": {
  "kernelspec": {
   "display_name": "Python 3",
   "language": "python",
   "name": "python3"
  },
  "language_info": {
   "codemirror_mode": {
    "name": "ipython",
    "version": 3
   },
   "file_extension": ".py",
   "mimetype": "text/x-python",
   "name": "python",
   "nbconvert_exporter": "python",
   "pygments_lexer": "ipython3",
   "version": "3.9.16"
  }
 },
 "nbformat": 4,
 "nbformat_minor": 2
}
